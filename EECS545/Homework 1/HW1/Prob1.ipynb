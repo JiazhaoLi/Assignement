{
 "cells": [
  {
   "cell_type": "markdown",
   "metadata": {},
   "source": [
    "# Data Processing"
   ]
  },
  {
   "cell_type": "code",
   "execution_count": 15,
   "metadata": {},
   "outputs": [],
   "source": [
    "import numpy as np\n",
    "from sklearn import datasets\n",
    "import matplotlib.pyplot as plt\n",
    "\n",
    "dataset = datasets.load_boston()\n",
    "features = dataset.data\n",
    "labels = dataset.target\n",
    "\n",
    "Nsplit = 50\n",
    "X_train, y_train = features[:-Nsplit], labels[:-Nsplit]\n",
    "X_test, y_test = features[-Nsplit:], labels[-Nsplit:]\n",
    "\n",
    "#################  train process ####################\n",
    "mean = np.mean(X_train,axis=0)\n",
    "std = np.std(X_train,axis=0)\n",
    "[data_num,feature_num]=np.shape(X_train)\n",
    "\n",
    "for i in range(data_num):\n",
    "    for j in range(feature_num):\n",
    "        X_train[i][j] = (X_train[i][j]-mean[j])/std[j]\n",
    "X_train = np.insert(X_train,0,1,axis = 1)\n",
    "#mean = np.mean(X_train,axis=0)\n",
    "#std = np.std(X_train,axis=0) \n",
    "[data_num,feature_num]=np.shape(X_train)\n",
    "X_train =X_train.reshape(data_num,feature_num)\n",
    "y_train =y_train.reshape(data_num,1)\n",
    "###################    text process ######################\n",
    "[data_num2,feature_num2]=np.shape(X_test)\n",
    "for i in range(data_num2):\n",
    "    for j in range(feature_num2):\n",
    "        X_test[i][j] = (X_test[i][j]-mean[j])/std[j]\n",
    "X_test = np.insert(X_test,0,1,axis = 1)\n",
    "#mean = np.mean(X_train,axis=0)\n",
    "#std = np.std(X_train,axis=0) \n",
    "[data_num2,feature_num2]=np.shape(X_test)\n",
    "X_test =X_test.reshape(data_num2,feature_num2)\n",
    "y_test =y_test.reshape(data_num2,1)"
   ]
  },
  {
   "cell_type": "markdown",
   "metadata": {},
   "source": [
    "# Stochastic gradient descent (SGD)"
   ]
  },
  {
   "cell_type": "code",
   "execution_count": 16,
   "metadata": {},
   "outputs": [
    {
     "data": {
      "text/plain": [
       "Text(0,0.5,'Error')"
      ]
     },
     "execution_count": 16,
     "metadata": {},
     "output_type": "execute_result"
    },
    {
     "data": {
      "image/png": "[encoded data removed]",
      "text/plain": [
       "<matplotlib.figure.Figure at 0x2484e56ba58>"
      ]
     },
     "metadata": {},
     "output_type": "display_data"
    }
   ],
   "source": [
    "w = np.random.uniform(0.1,0.1,feature_num) \n",
    "rate = 5e-4\n",
    "irratation = 500\n",
    "error = []\n",
    "\n",
    "for i in range(irratation):\n",
    "    order = np.arange(data_num)\n",
    "    np.random.shuffle(order)\n",
    "    x = X_train[order]\n",
    "    \n",
    "    y = y_train[order]\n",
    "    for j in range(data_num):\n",
    "        diff = w@x[j,:] - y[j]\n",
    "        w = w - rate*(diff*x[j,:])\n",
    "    er = (w@X_train.T) -y_train.T\n",
    "    err = 1/data_num*(er@er.T)\n",
    "    error.append(err)\n",
    "plt.plot(range(500),np.reshape(error,500))  \n",
    "plt.title(\"SGD method\")\n",
    "plt.xlabel('Iteration')\n",
    "plt.ylabel('Error')\n",
    "#plt.legend(labels = ['Train'], loc = 'best')\n",
    "#plt.savefig(\"Stochastic gradient descent.png\")\n",
    "#print('Weighted Vector:'+str(w))\n",
    "\n",
    "#diff = w@X_train.T-y_train.T\n",
    "#print('Train Error:'+str((diff@diff.T)/data_num))\n",
    "\n",
    "#diff2 = w@X_test.T - y_test.T\n",
    "#print('Test Error:' + str(diff2@diff2.T/data_num2))"
   ]
  },
  {
   "cell_type": "markdown",
   "metadata": {},
   "source": [
    "# Batch gradient descent (BGD)"
   ]
  },
  {
   "cell_type": "code",
   "execution_count": 17,
   "metadata": {},
   "outputs": [
    {
     "data": {
      "text/plain": [
       "Text(0,0.5,'Error')"
      ]
     },
     "execution_count": 17,
     "metadata": {},
     "output_type": "execute_result"
    },
    {
     "data": {
      "image/png": "[encoded data removed]",
      "text/plain": [
       "<matplotlib.figure.Figure at 0x2484e7e0e10>"
      ]
     },
     "metadata": {},
     "output_type": "display_data"
    }
   ],
   "source": [
    "w = np.random.uniform(-0.1,0.1,feature_num) \n",
    "rate = 5e-4\n",
    "irratation = 500\n",
    "error = []\n",
    "for i in range(irratation):\n",
    "    diff = w@X_train.T - y_train.T\n",
    "    w = w - rate*(diff@X_train)\n",
    "    er = (w@X_train.T) -y_train.T\n",
    "    err = 1/data_num*(er@er.T)\n",
    "    error.append(err)\n",
    "plt.plot(range(500),np.reshape(error,500))   \n",
    "plt.title(\"BGD method\")\n",
    "plt.xlabel('Iteration')\n",
    "plt.ylabel('Error')\n",
    "#plt.legend(labels = ['Train'], loc = 'best')\n",
    "#plt.savefig(\" Batch gradient descent (BGD).png\")\n",
    "#print('Weighted Vector:'+str(w))\n",
    "#print('Train Error:'+str((diff@diff.T)/data_num))\n",
    "\n",
    "#diff2 = w@X_test.T - y_test.T\n",
    "#print('Test Error:' + str((diff2@diff2.T)/data_num2))"
   ]
  },
  {
   "cell_type": "markdown",
   "metadata": {},
   "source": [
    "# Closed form solution(pinv)"
   ]
  },
  {
   "cell_type": "code",
   "execution_count": 18,
   "metadata": {},
   "outputs": [
    {
     "name": "stdout",
     "output_type": "stream",
     "text": [
      "Weighted Vector:[[22.94100877 -0.93652728  1.18983479  0.2180906   0.66954197 -2.10545149\n",
      "   2.75102471  0.30777503 -3.12356704  2.96148512 -2.45469868 -2.00737039\n",
      "   0.90552685 -4.05749492]]\n",
      "Train Error:[[23.19155647]]\n",
      "Test Error:[[10.96654317]]\n"
     ]
    }
   ],
   "source": [
    "U, s, V = np.linalg.svd(X_train)\n",
    "S_inv = np.zeros((feature_num,data_num))\n",
    "S_inv[:,0:feature_num] = np.diag(1 / s)\n",
    "x_pseudoinverse = np.dot(V.T, np.dot(S_inv, U.T))\n",
    "w_pred = x_pseudoinverse.dot(y_train)\n",
    "print('Weighted Vector:'+str(w_pred.T))\n",
    "er = (w_pred.T@X_train.T) -y_train.T\n",
    "MSE = np.min(np.abs(er**2))\n",
    "diff = w_pred.T@X_train.T - y_train.T\n",
    "print('Train Error:'+str((diff@diff.T)/data_num))\n",
    "diff2 = w_pred.T@X_test.T - y_test.T\n",
    "print('Test Error:' + str((diff2@diff2.T)/data_num2))"
   ]
  },
  {
   "cell_type": "markdown",
   "metadata": {},
   "source": [
    "# 1e"
   ]
  },
  {
   "cell_type": "code",
   "execution_count": 19,
   "metadata": {},
   "outputs": [],
   "source": [
    "def preproc_params(X_train):\n",
    "   params = np.shape(X_train)\n",
    "   return params\n",
    "def preprocess(X_source,X_input,params):\n",
    "    [num_data,feature_num] = np.shape(X_input)\n",
    "    if feature_num == 14:\n",
    "        return X_input\n",
    "    mean = np.mean(X_source,axis=0)\n",
    "    std = np.std(X_source,axis=0)\n",
    "    for i in range(num_data):\n",
    "        for j in range(feature_num):\n",
    "            X_input[i][j] = (X_input[i][j]-mean[j])/std[j]\n",
    "    X_input = np.insert(X_input,0,1,axis = 1)\n",
    "    [data_num,feature_num]=np.shape(X_input)\n",
    "    X_input =X_input.reshape(data_num,feature_num)\n",
    "    return X_input\n",
    "def solve(X_train,y_train):\n",
    "    w = np.linalg.pinv(X_train).dot(y_train)\n",
    "    w = np.reshape(w,(14,1))\n",
    "    return w\n",
    "def mse(X_train, y_train, w):\n",
    "    [data_num,feature_num ]= np.shape(X_train)\n",
    "    y_train = np.reshape(y_train,(data_num,1))\n",
    "    er= (X_train@w-y_train)\n",
    "    error_test=1/data_num*(er.T@er)\n",
    "    return error_test"
   ]
  },
  {
   "cell_type": "code",
   "execution_count": 6,
   "metadata": {},
   "outputs": [
    {
     "name": "stdout",
     "output_type": "stream",
     "text": [
      "Mean training error:  21.801923659236063\n",
      "Mean test error:  23.796547137339626\n",
      "[[22.64364035]\n",
      " [-0.86603839]\n",
      " [ 0.99719542]\n",
      " [ 0.20475762]\n",
      " [ 0.84018454]\n",
      " [-1.92205742]\n",
      " [ 3.00445451]\n",
      " [ 0.02774327]\n",
      " [-2.88354606]\n",
      " [ 2.36256206]\n",
      " [-2.12383659]\n",
      " [-2.04266253]\n",
      " [ 0.81979418]\n",
      " [-3.44916762]]\n"
     ]
    }
   ],
   "source": [
    "import numpy as np\n",
    "from sklearn import datasets\n",
    "import matplotlib.pyplot as plt\n",
    "\n",
    "# Load dataset\n",
    "dataset = datasets.load_boston()\n",
    "\n",
    "# Original features\n",
    "features_orig = dataset.data\n",
    "labels_orig = dataset.target\n",
    "Ndata = len(features_orig)\n",
    "\n",
    "train_errs = []\n",
    "test_errs = []\n",
    "\n",
    "for k in range(100):\n",
    "\n",
    "  # Shuffle data\n",
    "  rand_perm = np.random.permutation(Ndata)\n",
    "  features = [features_orig[ind] for ind in rand_perm]\n",
    "  labels = [labels_orig[ind] for ind in rand_perm]\n",
    "\n",
    "  # Train/test split\n",
    "  Nsplit = 50\n",
    "  X_train, y_train = features[:-Nsplit], labels[:-Nsplit]\n",
    "  X_test, y_test = features[-Nsplit:], labels[-Nsplit:]\n",
    "\n",
    "  # Preprocess your data - Normalization, adding a constant feature\n",
    "  params = preproc_params(X_train)\n",
    "  \n",
    "  X_test = preprocess(X_train,X_test, params)\n",
    "  X_train = preprocess(X_train,X_train, params)\n",
    "  # Solve for optimal w\n",
    "  # Use your solver function\n",
    "  w =solve(X_train, y_train)\n",
    "\n",
    "  # Collect train and test errors\n",
    "  # Use your implementation of the mse function\n",
    "  train_errs.append(mse(X_train, y_train, w))\n",
    "  test_errs.append(mse(X_test, y_test, w))\n",
    "\n",
    "print('Mean training error: ', np.mean(train_errs))\n",
    "print('Mean test error: ', np.mean(test_errs))\n",
    "print(w)"
   ]
  },
  {
   "cell_type": "code",
   "execution_count": null,
   "metadata": {},
   "outputs": [],
   "source": []
  },
  {
   "cell_type": "code",
   "execution_count": null,
   "metadata": {},
   "outputs": [],
   "source": []
  },
  {
   "cell_type": "code",
   "execution_count": null,
   "metadata": {},
   "outputs": [],
   "source": []
  },
  {
   "cell_type": "code",
   "execution_count": null,
   "metadata": {},
   "outputs": [],
   "source": []
  },
  {
   "cell_type": "code",
   "execution_count": null,
   "metadata": {},
   "outputs": [],
   "source": []
  },
  {
   "cell_type": "code",
   "execution_count": null,
   "metadata": {},
   "outputs": [],
   "source": []
  }
 ],
 "metadata": {
  "kernelspec": {
   "display_name": "Python 3",
   "language": "python",
   "name": "python3"
  },
  "language_info": {
   "codemirror_mode": {
    "name": "ipython",
    "version": 3
   },
   "file_extension": ".py",
   "mimetype": "text/x-python",
   "name": "python",
   "nbconvert_exporter": "python",
   "pygments_lexer": "ipython3",
   "version": "3.6.4"
  }
 },
 "nbformat": 4,
 "nbformat_minor": 2
}
