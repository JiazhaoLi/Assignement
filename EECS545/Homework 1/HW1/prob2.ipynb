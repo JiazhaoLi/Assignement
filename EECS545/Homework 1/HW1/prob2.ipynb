{
 "cells": [
  {
   "cell_type": "markdown",
   "metadata": {},
   "source": [
    "# DATA processing"
   ]
  },
  {
   "cell_type": "code",
   "execution_count": 1,
   "metadata": {},
   "outputs": [],
   "source": [
    "import numpy as np\n",
    "from sklearn import datasets\n",
    "import matplotlib.pyplot as plt\n",
    "\n",
    "dataset = datasets.load_boston()\n",
    "features = dataset.data\n",
    "labels = dataset.target\n",
    "\n",
    "Nsplit = 50\n",
    "X_train, y_train = features[:-Nsplit], labels[:-Nsplit]\n",
    "X_test, y_test = features[-Nsplit:], labels[-Nsplit:]\n",
    "#################  train process ####################\n",
    "mean = np.mean(X_train,axis=0)\n",
    "std = np.std(X_train,axis=0)\n",
    "[data_num,feature_num]=np.shape(X_train)\n",
    "for i in range(data_num):\n",
    "    for j in range(feature_num):\n",
    "        X_train[i][j] = (X_train[i][j]-mean[j])/std[j]\n",
    "X_train = np.insert(X_train,0,1,axis = 1)\n",
    "#mean = np.mean(X_train,axis=0)\n",
    "#std = np.std(X_train,axis=0) \n",
    "[data_num,feature_num]=np.shape(X_train)\n",
    "X_train =X_train.reshape(data_num,feature_num)\n",
    "y_train =y_train.reshape(data_num,1)\n",
    "\n",
    "\n",
    "\n",
    "###################    text process ######################\n",
    "[data_num2,feature_num2]=np.shape(X_test)\n",
    "for i in range(data_num2):\n",
    "    for j in range(feature_num2):\n",
    "        X_test[i][j] = (X_test[i][j]-mean[j])/std[j]\n",
    "X_test = np.insert(X_test,0,1,axis = 1)\n",
    "\n",
    "[data_num2,feature_num2]=np.shape(X_test)\n",
    "X_test =X_test.reshape(data_num2,feature_num2)\n",
    "y_test =y_test.reshape(data_num2,1)"
   ]
  },
  {
   "cell_type": "code",
   "execution_count": 2,
   "metadata": {},
   "outputs": [],
   "source": [
    "X_train_0 = np.ones((data_num,1))\n",
    "X_train_1 = X_train\n",
    "X_train_2 = np.append(X_train,np.delete(X_train**2,0,1),axis = 1)\n",
    "X_train_3 = np.append(X_train_2,np.delete(X_train**3,0,1),axis = 1)\n",
    "X_train_4 = np.append(X_train_3,np.delete(X_train**4,0,1),axis = 1)\n",
    "X_test_0 = np.ones((data_num2,1))\n",
    "X_test_1 = X_test\n",
    "X_test_2 = np.append(X_test,np.delete(X_test**2,0,1),axis = 1)\n",
    "X_test_3 = np.append(X_test_2,np.delete(X_test**3,0,1),axis = 1)\n",
    "X_test_4 = np.append(X_test_3,np.delete(X_test**4,0,1),axis = 1)\n",
    "error_train=[]\n",
    "error_test=[]\n"
   ]
  },
  {
   "cell_type": "markdown",
   "metadata": {},
   "source": [
    "# Get weighted vector and error"
   ]
  },
  {
   "cell_type": "code",
   "execution_count": 3,
   "metadata": {},
   "outputs": [],
   "source": [
    "w_pred0 = np.linalg.pinv(X_train_0).dot(y_train)\n",
    "er_train= (X_train_0@w_pred0-y_train)\n",
    "er_test = (X_test_0@w_pred0-y_test)\n",
    "error_train.append(1/data_num*(er_train.T@er_train))\n",
    "error_test.append(1/data_num2*(er_test.T@er_test))"
   ]
  },
  {
   "cell_type": "code",
   "execution_count": 4,
   "metadata": {},
   "outputs": [],
   "source": [
    "w_pred1 = np.linalg.pinv(X_train_1).dot(y_train)\n",
    "er_train= (X_train_1@w_pred1-y_train)\n",
    "er_test = (X_test_1@w_pred1-y_test)\n",
    "error_train.append(1/data_num*(er_train.T@er_train))\n",
    "error_test.append(1/data_num2*(er_test.T@er_test))"
   ]
  },
  {
   "cell_type": "code",
   "execution_count": 5,
   "metadata": {},
   "outputs": [],
   "source": [
    "w_pred2 = np.linalg.pinv(X_train_2).dot(y_train)\n",
    "er_train= (X_train_2@w_pred2-y_train)\n",
    "er_test = (X_test_2@w_pred2-y_test)\n",
    "error_train.append(1/data_num*(er_train.T@er_train))\n",
    "error_test.append(1/data_num2*(er_test.T@er_test))"
   ]
  },
  {
   "cell_type": "code",
   "execution_count": 6,
   "metadata": {},
   "outputs": [],
   "source": [
    "w_pred3 = np.linalg.pinv(X_train_3).dot(y_train)\n",
    "er_train= (X_train_3@w_pred3-y_train)\n",
    "er_test = (X_test_3@w_pred3-y_test)\n",
    "error_train.append(1/data_num*(er_train.T@er_train))\n",
    "error_test.append(1/data_num2*(er_test.T@er_test))"
   ]
  },
  {
   "cell_type": "code",
   "execution_count": 7,
   "metadata": {},
   "outputs": [],
   "source": [
    "w_pred4 = np.linalg.pinv(X_train_4).dot(y_train)\n",
    "er_train= (X_train_4@w_pred4-y_train)\n",
    "er_test = (X_test_4@w_pred4-y_test)\n",
    "error_train.append(1/data_num*(er_train.T@er_train))\n",
    "error_test.append(1/data_num2*(er_test.T@er_test))"
   ]
  },
  {
   "cell_type": "markdown",
   "metadata": {},
   "source": [
    "# Plot RMSE "
   ]
  },
  {
   "cell_type": "code",
   "execution_count": 22,
   "metadata": {},
   "outputs": [
    {
     "name": "stdout",
     "output_type": "stream",
     "text": [
      "[[[9.48269466]]\n",
      "\n",
      " [[4.81576126]]\n",
      "\n",
      " [[3.74817399]]\n",
      "\n",
      " [[3.57467131]]\n",
      "\n",
      " [[3.38306566]]]\n"
     ]
    },
    {
     "data": {
      "image/png": "[encoded data removed]",
      "text/plain": [
       "<matplotlib.figure.Figure at 0x1537ea29e48>"
      ]
     },
     "metadata": {},
     "output_type": "display_data"
    }
   ],
   "source": [
    "plt.plot(range(5),np.reshape(np.sqrt(error_train),(5,1)))\n",
    "\n",
    "#plt.title(\"Error\")\n",
    "plt.xlabel('Polynomial Order')\n",
    "plt.ylabel('Error')\n",
    "#plt.savefig(\"Train_error VS ployminal order.PNG\")\n",
    "print(np.sqrt(error_train))"
   ]
  },
  {
   "cell_type": "code",
   "execution_count": 23,
   "metadata": {},
   "outputs": [
    {
     "name": "stdout",
     "output_type": "stream",
     "text": [
      "[[[  5.99400813]]\n",
      "\n",
      " [[  3.31157714]]\n",
      "\n",
      " [[  7.13793835]]\n",
      "\n",
      " [[  9.42793473]]\n",
      "\n",
      " [[130.46951778]]]\n"
     ]
    },
    {
     "data": {
      "image/png": "[encoded data removed]",
      "text/plain": [
       "<matplotlib.figure.Figure at 0x1537e96a048>"
      ]
     },
     "metadata": {},
     "output_type": "display_data"
    }
   ],
   "source": [
    "plt.plot(range(5),np.reshape(np.sqrt(error_test),(5,1)))\n",
    "#plt.legend(labels = ['Test'], loc = 'best')\n",
    "#plt.title(\"error VS ployminal order \")\n",
    "plt.xlabel('Polynomial Order')\n",
    "plt.ylabel('Error')\n",
    "#plt.savefig(\"Teast_error VS ployminal order.PNG\")\n",
    "print(np.sqrt(error_test))"
   ]
  },
  {
   "cell_type": "markdown",
   "metadata": {},
   "source": [
    "# Partial Data 20% 40% 60% 80% 100%"
   ]
  },
  {
   "cell_type": "code",
   "execution_count": 30,
   "metadata": {},
   "outputs": [],
   "source": [
    "import numpy as np\n",
    "from sklearn import datasets\n",
    "import matplotlib.pyplot as plt\n",
    "\n",
    "dataset = datasets.load_boston()\n",
    "features = dataset.data\n",
    "labels = dataset.target\n",
    "Nsplit = 50\n",
    "X_train, y_train = features[:-Nsplit], labels[:-Nsplit]\n",
    "X_test, y_test = features[-Nsplit:], labels[-Nsplit:]\n"
   ]
  },
  {
   "cell_type": "code",
   "execution_count": 31,
   "metadata": {},
   "outputs": [],
   "source": [
    "train_split = data_num*np.asarray([0.2,0.4,0.6,0.8,1])\n",
    "train_split = [ int(i) for i in train_split]\n",
    "\n",
    "error_train= []\n",
    "error_test = []\n",
    "for m in train_split:\n",
    "    data = X_train[np.arange(m),:]\n",
    "    data_mean =np.mean(data,axis=0)\n",
    "    data_std =np.std(data,axis=0)\n",
    "    \n",
    "    X_test_new =X_test.copy()\n",
    "    \n",
    "    [a,b]=np.shape(data)\n",
    "    [c,d]=np.shape(X_test_new)\n",
    "    for i in range(a):\n",
    "        for j in range(b): \n",
    "            if data_std[j]==0:\n",
    "                continue\n",
    "            else:\n",
    "                data[i][j] = (data[i][j]-data_mean[j])/data_std[j]\n",
    "    data = np.insert(data,0,1,axis = 1)\n",
    "    \n",
    "    y_train_part =y_train[np.arange(a)]\n",
    "    y_train_part=np.reshape(y_train_part,(a,1))\n",
    "    \n",
    "    for p in range(c):\n",
    "        for q in range(d):\n",
    "            if data_std[q]==0:\n",
    "                continue\n",
    "            else:\n",
    "                X_test_new[p][q] = (X_test_new[p][q]-data_mean[q])/data_std[q]    \n",
    "    X_test_new = np.insert(X_test_new,0,1,axis = 1)\n",
    "    w_pred = np.linalg.pinv(data).dot(y_train_part)\n",
    "    er_train= data@w_pred-y_train_part\n",
    "    error_train.append(np.sqrt(1/m*(er_train.T@er_train)))\n",
    "    er_test = X_test_new@w_pred-np.reshape(y_test,(50,1))\n",
    "    error_test.append(np.sqrt(1/50*(er_test.T@er_test)))"
   ]
  },
  {
   "cell_type": "code",
   "execution_count": 33,
   "metadata": {
    "scrolled": false
   },
   "outputs": [
    {
     "name": "stdout",
     "output_type": "stream",
     "text": [
      "[array([[1.95149305]]), array([[2.96802007]]), array([[3.13937307]]), array([[3.04080629]]), array([[4.81576126]])]\n"
     ]
    },
    {
     "data": {
      "image/png": "[encoded data removed]",
      "text/plain": [
       "<matplotlib.figure.Figure at 0x1537fc7a9b0>"
      ]
     },
     "metadata": {},
     "output_type": "display_data"
    }
   ],
   "source": [
    "plt.plot([0.2,0.4,0.6,0.8,1],np.reshape(error_train,(5,1)))\n",
    "#plt.title(\"Train_error VS Data size \")\n",
    "plt.xlabel('Data Size')\n",
    "plt.ylabel('Error')\n",
    "#plt.legend(labels = ['Train'], loc = 'best')\n",
    "#plt.savefig(\"Train_error VS Data size .PNG\")\n",
    "print(error_train)"
   ]
  },
  {
   "cell_type": "code",
   "execution_count": 35,
   "metadata": {},
   "outputs": [
    {
     "name": "stdout",
     "output_type": "stream",
     "text": [
      "[array([[30.12696201]]), array([[9.32135308]]), array([[7.46339832]]), array([[4.80841924]]), array([[3.31157714]])]\n"
     ]
    },
    {
     "data": {
      "image/png": "[encoded data removed]",
      "text/plain": [
       "<matplotlib.figure.Figure at 0x1537ebfcc88>"
      ]
     },
     "metadata": {},
     "output_type": "display_data"
    }
   ],
   "source": [
    "plt.plot([0.2,0.4,0.6,0.8,1],np.reshape(error_test,(5,1)))\n",
    "#plt.title(\"error VS Data size \")\n",
    "plt.xlabel('Data Size')\n",
    "plt.ylabel('Error')\n",
    "#plt.legend(labels = ['Test'], loc = 'best')\n",
    "#plt.savefig('Train_error VS Data size.png') \n",
    "print(error_test)"
   ]
  },
  {
   "cell_type": "code",
   "execution_count": null,
   "metadata": {},
   "outputs": [],
   "source": [
    "\n"
   ]
  },
  {
   "cell_type": "code",
   "execution_count": null,
   "metadata": {},
   "outputs": [],
   "source": []
  },
  {
   "cell_type": "code",
   "execution_count": null,
   "metadata": {},
   "outputs": [],
   "source": [
    "\n"
   ]
  },
  {
   "cell_type": "code",
   "execution_count": null,
   "metadata": {},
   "outputs": [],
   "source": []
  },
  {
   "cell_type": "code",
   "execution_count": null,
   "metadata": {},
   "outputs": [],
   "source": []
  }
 ],
 "metadata": {
  "kernelspec": {
   "display_name": "Python 3",
   "language": "python",
   "name": "python3"
  },
  "language_info": {
   "codemirror_mode": {
    "name": "ipython",
    "version": 3
   },
   "file_extension": ".py",
   "mimetype": "text/x-python",
   "name": "python",
   "nbconvert_exporter": "python",
   "pygments_lexer": "ipython3",
   "version": "3.6.4"
  }
 },
 "nbformat": 4,
 "nbformat_minor": 2
}
