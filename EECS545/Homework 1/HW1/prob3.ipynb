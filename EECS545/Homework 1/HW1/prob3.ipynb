{
 "cells": [
  {
   "cell_type": "markdown",
   "metadata": {},
   "source": [
    "# Data process"
   ]
  },
  {
   "cell_type": "code",
   "execution_count": 1,
   "metadata": {},
   "outputs": [],
   "source": [
    "import numpy as np\n",
    "from sklearn import datasets\n",
    "import matplotlib.pyplot as plt\n",
    "\n",
    "dataset = datasets.load_boston()\n",
    "features = dataset.data\n",
    "labels = dataset.target\n",
    "\n",
    "Nsplit = 50\n",
    "X_train, y_train = features[:-Nsplit], labels[:-Nsplit]\n",
    "X_test, y_test = features[-Nsplit:], labels[-Nsplit:]\n",
    "\n",
    "#################  train process ####################\n",
    "[data_num,feature_num]=np.shape(X_train)\n",
    "train_split = int(data_num*0.9)\n",
    "train_verif = data_num -train_split\n",
    "\n",
    "X_train_new = X_train[np.arange(train_split),:] \n",
    "mean = np.mean(X_train_new,axis=0)\n",
    "std = np.std(X_train_new,axis=0)\n",
    "\n",
    "for i in range(data_num):\n",
    "    for j in range(feature_num):\n",
    "        X_train[i][j] = (X_train[i][j]-mean[j])/std[j]\n",
    "\n",
    "X_train = np.insert(X_train,0,1,axis = 1)\n",
    "X_train_new = X_train[np.arange(train_split),:]\n",
    "X_train_verif = X_train[np.arange(train_split,data_num),:]\n",
    "[train_split,feature_num]=np.shape(X_train_new)\n",
    "\n",
    "y_train_verif = y_train[np.arange(train_split,data_num)]\n",
    "###################    text process ######################\n",
    "[data_num2,feature_num2]=np.shape(X_test)\n",
    "for i in range(data_num2):\n",
    "    for j in range(feature_num2):\n",
    "        X_test[i][j] = (X_test[i][j]-mean[j])/std[j]\n",
    "X_test = np.insert(X_test,0,1,axis = 1)\n",
    "#mean = np.mean(X_train,axis=0)\n",
    "#std = np.std(X_train,axis=0) \n",
    "[data_num2,feature_num2]=np.shape(X_test)\n",
    "X_test =X_test.reshape(data_num2,feature_num2)\n",
    "y_test =y_test.reshape(data_num2,1)\n",
    "\n",
    "\n",
    "[data_num,feature_num]=np.shape(X_train)\n",
    "train_split = int(data_num*0.9)\n",
    "train_verif = data_num -train_split\n",
    "X_train_new = X_train[np.arange(train_split),:] \n",
    "X_train_verif = X_train[np.arange(train_split,data_num),:]"
   ]
  },
  {
   "cell_type": "markdown",
   "metadata": {},
   "source": [
    "# Train 90% Data"
   ]
  },
  {
   "cell_type": "code",
   "execution_count": 2,
   "metadata": {},
   "outputs": [],
   "source": [
    "lambda_value = 0.1*np.asarray(range(6))\n",
    "w_lambda =[]\n",
    "for i in lambda_value:\n",
    "    w = (np.linalg.inv(X_train_new.T@X_train_new+ i*train_split*np.identity(feature_num))\n",
    "        @X_train_new.T@y_train[np.arange(train_split)])\n",
    "    w_lambda.append(w)"
   ]
  },
  {
   "cell_type": "markdown",
   "metadata": {},
   "source": [
    "# Error for Verif and Test"
   ]
  },
  {
   "cell_type": "code",
   "execution_count": 4,
   "metadata": {},
   "outputs": [],
   "source": [
    "error_test=[]\n",
    "error_verif=[]\n",
    "for w in w_lambda:\n",
    "    er_test = (X_test@np.reshape(w,(14,1))-y_test)\n",
    "    error_test.append(np.sqrt(1/data_num2*(er_test.T@er_test)))\n",
    "    er_verif = (X_train_verif@w-y_train_verif)\n",
    "    error_verif.append(np.sqrt(1/train_verif*(er_verif.T@er_verif)))"
   ]
  },
  {
   "cell_type": "code",
   "execution_count": 5,
   "metadata": {},
   "outputs": [
    {
     "name": "stdout",
     "output_type": "stream",
     "text": [
      "verifi error is  [7.845640278971592, 5.495070249342686, 4.543954723078737, 4.484448301326924, 4.930339746844782, 5.57508121459176]\n"
     ]
    },
    {
     "data": {
      "image/png": "[encoded data removed]",
      "text/plain": [
       "<matplotlib.figure.Figure at 0x18e6d2ee2b0>"
      ]
     },
     "metadata": {},
     "output_type": "display_data"
    }
   ],
   "source": [
    "plt.plot(lambda_value,np.reshape(error_verif,(6,1)))\n",
    "#plt.title(\"Verrifi_err VS lambda\")\n",
    "plt.xlabel('lambda')\n",
    "plt.ylabel('Error')\n",
    "#plt.legend(labels = ['Verrifi'], loc = 'best')\n",
    "#print('The min verif error pos is :',pos)\n",
    "print('verifi error is ', error_verif)\n",
    "#plt.savefig(\"Verrifi_err VS lambda.png\")"
   ]
  },
  {
   "cell_type": "code",
   "execution_count": 6,
   "metadata": {},
   "outputs": [
    {
     "name": "stdout",
     "output_type": "stream",
     "text": [
      "test error is  [array([[4.22655365]]), array([[3.18380157]]), array([[3.92160042]]), array([[5.11613125]]), array([[6.29716462]]), array([[7.36843458]])]\n"
     ]
    },
    {
     "data": {
      "image/png": "[encoded data removed]",
      "text/plain": [
       "<matplotlib.figure.Figure at 0x18e7e14d908>"
      ]
     },
     "metadata": {},
     "output_type": "display_data"
    }
   ],
   "source": [
    "plt.plot(lambda_value,np.reshape(error_test,(6,1)))\n",
    "#plt.title(\"Test_err VS lambda\")\n",
    "plt.xlabel('lambda')\n",
    "plt.ylabel('Error')\n",
    "#plt.legend(labels = ['Test'], loc = 'best')\n",
    "print('test error is ', error_test)\n",
    "#plt.savefig(\"Test_err VS lambda.png\")"
   ]
  },
  {
   "cell_type": "code",
   "execution_count": null,
   "metadata": {},
   "outputs": [],
   "source": []
  },
  {
   "cell_type": "code",
   "execution_count": null,
   "metadata": {},
   "outputs": [],
   "source": []
  },
  {
   "cell_type": "code",
   "execution_count": null,
   "metadata": {},
   "outputs": [],
   "source": []
  },
  {
   "cell_type": "code",
   "execution_count": null,
   "metadata": {},
   "outputs": [],
   "source": []
  },
  {
   "cell_type": "code",
   "execution_count": null,
   "metadata": {},
   "outputs": [],
   "source": []
  }
 ],
 "metadata": {
  "kernelspec": {
   "display_name": "Python 3",
   "language": "python",
   "name": "python3"
  },
  "language_info": {
   "codemirror_mode": {
    "name": "ipython",
    "version": 3
   },
   "file_extension": ".py",
   "mimetype": "text/x-python",
   "name": "python",
   "nbconvert_exporter": "python",
   "pygments_lexer": "ipython3",
   "version": "3.6.4"
  }
 },
 "nbformat": 4,
 "nbformat_minor": 2
}
