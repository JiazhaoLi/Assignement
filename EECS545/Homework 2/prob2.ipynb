{
 "cells": [
  {
   "cell_type": "code",
   "execution_count": 3,
   "metadata": {
    "scrolled": true
   },
   "outputs": [
    {
     "ename": "LoadError",
     "evalue": "\u001b[91msyntax: extra token \"as\" after end of expression\u001b[39m",
     "output_type": "error",
     "traceback": [
      "\u001b[91msyntax: extra token \"as\" after end of expression\u001b[39m",
      "",
      "Stacktrace:",
      " [1] \u001b[1minclude_string\u001b[22m\u001b[22m\u001b[1m(\u001b[22m\u001b[22m::String, ::String\u001b[1m)\u001b[22m\u001b[22m at \u001b[1m.\\loading.jl:522\u001b[22m\u001b[22m"
     ]
    }
   ],
   "source": [
    "import numpy as np\n",
    "import matplotlib.pyplot as plt\n",
    "\n",
    "import math\n",
    "# feel free to read the two examples below, try to understand them\n",
    "# in this problem, we require you to generate contour plots\n",
    "\n",
    "# generate contour plot for function z = x^2 + 2*y^2\n",
    "def plot_contour():\n",
    "    plot_delta = 0.025\n",
    "    plot_x = np.arange(-3.0, 3.0, plot_delta)\n",
    "    plot_y = np.arange(-3.0, 3.0, plot_delta)\n",
    "    X, Y = np.meshgrid(plot_x, plot_y)\n",
    "  \n",
    "    x_len = plot_x.shape[0]\n",
    "    y_len = plot_y.shape[0]\n",
    "    Z = np.zeros((x_len, y_len))\n",
    "    temp = 1/np.sqrt((2*math.pi)**2*np.linalg.det(b[1]))\n",
    "    for i in range(x_len):\n",
    "        for j in range(y_len):\n",
    "            Z[j][i] =temp*np.exp(-1/2*(([X[j][i],Y[j][i]]-b[0])@np.linalg.inv(b[1])@([X[j][i],Y[j][i]]-b[0]).T))    \n",
    "   \n",
    "    cs = plt.contour(X, Y, Z)\n",
    "    plt.clabel(cs, inline=0.1, fontsize=10)\n",
    "    plt.show()\n",
    "\n",
    "\n",
    "# generate heat plot (image-like) for function z = x^2 + 2*y^2\n",
    "def plot_heat():\n",
    "    \n",
    "    plot_delta = 0.025\n",
    "    plot_x = np.arange(-3.0, 3.0, plot_delta)\n",
    "    plot_y = np.arange(-3.0, 3.0, plot_delta)\n",
    "    X, Y = np.meshgrid(plot_x, plot_y)\n",
    "    x_len = plot_x.shape[0]\n",
    "    y_len = plot_y.shape[0]\n",
    "    Z = np.zeros((x_len, y_len))\n",
    "    temp = 1/np.sqrt((2*math.pi)**2*np.linalg.det(b[1]))\n",
    "    for i in range(x_len):\n",
    "        for j in range(y_len):\n",
    "            Z[j][i] =temp*np.exp(-1/2*(([X[j][i],Y[j][i]]-b[0])@np.linalg.inv(b[1])@([X[j][i],Y[j][i]]-b[0]).T))  \n",
    "    plt.clf()\n",
    "    img = Z\n",
    "    plt.imshow(img, interpolation='none', extent=[-3.0, 3.0, -3.0, 3.0],cmap=\"plasma\")\n",
    "    plt.colorbar()\n",
    "    plt.axis(\"square\")\n",
    "    plt.show()\n",
    "\n",
    "\n",
    "\n",
    "# This function receives the parameters of a multivariate Gaussian distribution\n",
    "# over variables x_1, x_2 .... x_n as input and compute the marginal\n",
    "#\n",
    "def marginal_for_guassian(sigma,mu,given_indices):\n",
    "    # given selected indices, compute marginal distribution for them\n",
    "    a = given_indices\n",
    "    marginal_sigma= sigma[a,a]\n",
    "    marginal_mu=mu[a][a] \n",
    "    return marginal_mu,marginal_sigma\n",
    "    #print(marginal_sigma)\n",
    "    #print(marginal_mu)\n",
    "    \n",
    "def conditional_for_gaussian(sigma,mu,given_indices,given_values):\n",
    "    # given some indices that have fixed value, compute the conditional distribution\n",
    "    # for rest indices b = indics\n",
    "    a = given_indices\n",
    "    size = np.size(a)\n",
    "    sigma_bb = np.zeros((size,size))\n",
    "    for i in np.arange(size):\n",
    "        for j in np.arange(size):\n",
    "            sigma_bb[i,j] = sigma[a[i],a[j]]\n",
    "    sigma_aa= np.delete(sigma,a,0)\n",
    "    sigma_aa = np.delete(sigma_aa,a,1)\n",
    "    \n",
    "    sigma_ab_t = np.delete(sigma,a,0)\n",
    "    sigma_ab = np.zeros((2,2))\n",
    "    for i in np.arange(size):\n",
    "        sigma_ab[i] = sigma_ab_t[:,a[i]]\n",
    "    sigma_ab = sigma_ab.T\n",
    "   \n",
    "    sigma_ba_t = np.delete(sigma,a,1)\n",
    "    sigma_ba = np.zeros((2,2))\n",
    "    for i in np.arange(size):\n",
    "        sigma_ba[i] = sigma_ba_t[a[i],:]\n",
    "    print(sigma_aa)\n",
    "    print(sigma_bb)\n",
    "    print(sigma_ab)\n",
    "    print(sigma_ba)\n",
    "    sigma_con = sigma_aa - sigma_ab@np.linalg.inv(sigma_bb)@sigma_ba\n",
    "    \n",
    "    mu_b = mu[given_indices]\n",
    "    mu_a = np.delete(mu,given_indices,0)\n",
    "    #print(np.shape(mu_a))\n",
    "    #print(np.shape(given_values))\n",
    "    #print(mu_b)\n",
    "    mu_con = mu_a + sigma_ab@np.linalg.inv(sigma_bb)@(given_values-mu_b)\n",
    "    #print(mu_con)\n",
    "    #print(sigma_con)\n",
    "    return (mu_con,sigma_con)\n",
    "    \n",
    "\n",
    "\n",
    "test_sigma_1 = np.array(\n",
    "    [[1.0, 0.5],\n",
    "     [0.5, 1.0]]\n",
    ")\n",
    "\n",
    "test_mu_1 = np.array(\n",
    "    [0.0, 0.0]\n",
    ")\n",
    "test_sigma_2 = np.array(\n",
    "    [[1.0, 0.5, 0.0, 0.0],\n",
    "     [0.5, 1.0, 0.0, 1.5],\n",
    "     [0.0, 0.0, 2.0, 0.0],\n",
    "     [0.0, 1.5, 0.0, 4.0]]\n",
    ")\n",
    "\n",
    "test_mu_2 = np.array(\n",
    "    [0.5, 0.0, -0.5, 0.0]\n",
    ")\n",
    "\n",
    "indices_1 = np.array([0])\n",
    "\n",
    "indices_2 = np.array([1,2])\n",
    "values_2 = np.array([0.1,-0.2])\n",
    "\n",
    "\n",
    "a = marginal_for_guassian(test_sigma_1, test_mu_1, indices_1)\n",
    "x = np.random.normal(a[0], a[1], 500)\n",
    "y = 1/(np.sqrt(2*np.pi)*a[1])*np.exp(-(x-a[0])**2/(2*(a[1]**2)))\n",
    "plt.scatter(x,y)\n",
    "plt.title(\"P(x1),m1=0,sigma1=1\")\n",
    "plt.show()\n",
    "\n",
    "\n",
    "b= conditional_for_gaussian(test_sigma_2, test_mu_2, indices_2, values_2)\n",
    "print(b[0])\n",
    "print(b[1])      \n",
    "#plt.contour(b[0],b[1])\n",
    "plot_contour()\n",
    "plot_heat()"
   ]
  },
  {
   "cell_type": "code",
   "execution_count": null,
   "metadata": {
    "collapsed": true
   },
   "outputs": [],
   "source": [
    "\n"
   ]
  },
  {
   "cell_type": "code",
   "execution_count": 6,
   "metadata": {
    "collapsed": true
   },
   "outputs": [],
   "source": [
    "\n"
   ]
  },
  {
   "cell_type": "code",
   "execution_count": null,
   "metadata": {
    "collapsed": true
   },
   "outputs": [],
   "source": []
  },
  {
   "cell_type": "code",
   "execution_count": null,
   "metadata": {
    "collapsed": true
   },
   "outputs": [],
   "source": []
  }
 ],
 "metadata": {
  "kernelspec": {
   "display_name": "Python 3",
   "language": "python",
   "name": "python3"
  },
  "language_info": {
   "codemirror_mode": {
    "name": "ipython",
    "version": 3
   },
   "file_extension": ".py",
   "mimetype": "text/x-python",
   "name": "python",
   "nbconvert_exporter": "python",
   "pygments_lexer": "ipython3",
   "version": "3.6.4"
  }
 },
 "nbformat": 4,
 "nbformat_minor": 2
}
