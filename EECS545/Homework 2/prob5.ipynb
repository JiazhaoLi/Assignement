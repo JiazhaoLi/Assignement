{
 "cells": [
  {
   "cell_type": "code",
   "execution_count": 4,
   "metadata": {
    "scrolled": true
   },
   "outputs": [
    {
     "data": {
      "text/plain": [
       "<matplotlib.figure.Figure at 0x1bfa74eb6a0>"
      ]
     },
     "metadata": {},
     "output_type": "display_data"
    },
    {
     "data": {
      "text/plain": [
       "<matplotlib.figure.Figure at 0x1bfbc1fd550>"
      ]
     },
     "metadata": {},
     "output_type": "display_data"
    }
   ],
   "source": [
    "import numpy as np\n",
    "import matplotlib.pyplot as plt\n",
    "data = np.zeros((100, 3))\n",
    "val = np.random.uniform(0, 2, 100)\n",
    "diff = np.random.uniform(-1, 1, 100)\n",
    "data[:,0], data[:,1], data[:,2] = val - diff, val + diff, np.ones(100)\n",
    "target = np.asarray(val > 1, dtype = int) * 2 - 1\n",
    "w = np.zeros((3,1))\n",
    "for j in range(10):\n",
    "    for i in range(np.shape(data)[0]):\n",
    "        data1= data[i].reshape(3,1)\n",
    "        if target[i]*w.T@data1 > 0:\n",
    "            continue\n",
    "        w += target[i]*data1\n",
    "        classify = data@w\n",
    "        for i in range(np.shape(data)[0]):\n",
    "            if classify[i]>0:\n",
    "                plt.scatter(data[i][0],data[i][1],c = 'r',marker = 'o')\n",
    "        else:\n",
    "            plt.scatter(data[i][0],data[i][1],c = 'b',marker = 'o') \n",
    "for i in range(np.shape(data)[0]):\n",
    "    if classify[i]>0:\n",
    "        plt.scatter(data[i][0],data[i][1],c = 'r',marker = 'o')\n",
    "    else:\n",
    "        plt.scatter(data[i][0],data[i][1],c = 'b',marker = 'o') \n",
    "plt.figure()      \n",
    "x=np.arange(-1,3,0.1)\n",
    "y= -w[0]/w[1]*x-w[2]/w[1]\n",
    "plt.plot(x,y)\n",
    "plt.title('perceptron predictor')\n",
    "plt.show()\n",
    "plt.savefig('perceptron.png')"
   ]
  },
  {
   "cell_type": "code",
   "execution_count": null,
   "metadata": {
    "collapsed": true
   },
   "outputs": [],
   "source": []
  },
  {
   "cell_type": "code",
   "execution_count": null,
   "metadata": {
    "collapsed": true
   },
   "outputs": [],
   "source": [
    "\n"
   ]
  },
  {
   "cell_type": "code",
   "execution_count": null,
   "metadata": {
    "collapsed": true
   },
   "outputs": [],
   "source": []
  },
  {
   "cell_type": "code",
   "execution_count": null,
   "metadata": {
    "collapsed": true
   },
   "outputs": [],
   "source": []
  }
 ],
 "metadata": {
  "kernelspec": {
   "display_name": "Python 3",
   "language": "python",
   "name": "python3"
  },
  "language_info": {
   "codemirror_mode": {
    "name": "ipython",
    "version": 3
   },
   "file_extension": ".py",
   "mimetype": "text/x-python",
   "name": "python",
   "nbconvert_exporter": "python",
   "pygments_lexer": "ipython3",
   "version": "3.6.4"
  }
 },
 "nbformat": 4,
 "nbformat_minor": 2
}
