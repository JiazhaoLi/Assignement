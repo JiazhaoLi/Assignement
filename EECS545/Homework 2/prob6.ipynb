{
 "cells": [
  {
   "cell_type": "code",
   "execution_count": 71,
   "metadata": {
    "scrolled": true
   },
   "outputs": [
    {
     "data": {
      "image/png": "[encoded data removed]",
      "text/plain": [
       "<matplotlib.figure.Figure at 0x7fd550b642e8>"
      ]
     },
     "metadata": {},
     "output_type": "display_data"
    },
    {
     "data": {
      "image/png": "[encoded data removed]",
      "text/plain": [
       "<matplotlib.figure.Figure at 0x7fd5902a86a0>"
      ]
     },
     "metadata": {},
     "output_type": "display_data"
    },
    {
     "name": "stdout",
     "output_type": "stream",
     "text": [
      "X_train final cross_entropy 0.14648956490662302\n",
      "X_test final cross_entropy 0.1649307343483145\n"
     ]
    }
   ],
   "source": [
    "import numpy as np\n",
    "from sklearn.datasets import load_breast_cancer\n",
    "import matplotlib.pyplot as plt\n",
    "import math\n",
    "def preprocess(X_source,X_input):\n",
    "    params = np.shape(X_input)\n",
    "    mean = np.mean(X_source,axis=0)\n",
    "    std = np.std(X_source,axis=0)\n",
    "    for i in range(params[0]):\n",
    "        for j in range(params[1]):\n",
    "            X_input[i][j] = (X_input[i][j]-mean[j])/std[j]\n",
    "    X_input = np.insert(X_input,0,1,axis = 1)\n",
    "    [data_num,feature_num]=np.shape(X_input)\n",
    "    X_input =X_input.reshape(data_num,feature_num)\n",
    "    return X_input\n",
    "\n",
    "def sigmoid(a):\n",
    "    return np.exp(a)/(1+np.exp(a))\n",
    "\n",
    "X, y = load_breast_cancer().data, load_breast_cancer().target\n",
    "from sklearn.model_selection import train_test_split\n",
    "X_train, X_test, y_train, y_test = train_test_split(X, y, test_size=0.33)\n",
    "X_test = preprocess(X_train,X_test)\n",
    "X_train = preprocess(X_train,X_train)\n",
    "\n",
    "\n",
    "\n",
    "w = np.random.uniform(-1,1,np.shape(X_train)[1]).reshape(np.shape(X_train)[1],1)\n",
    "E_ave_train =[]\n",
    "\n",
    "E_ave_test =[]\n",
    "rate = 1e-2\n",
    "order = np.arange(np.shape(X_train)[0])\n",
    "np.random.shuffle(order)\n",
    "acc = []\n",
    "acc_test=[]\n",
    "for i in order:\n",
    "    x = X_train[i]\n",
    "    y = y_train[i]\n",
    "    diff = sigmoid(x@w) - y\n",
    "    w = w - rate*(diff*x.reshape(31,1))  \n",
    "    classif = X_train@w\n",
    "    classif_test = X_test@w\n",
    "    E_train= 0\n",
    "    E_test= 0\n",
    "    for i in np.arange(np.shape(X_train)[0]):\n",
    "        E_train  += -(y_train[i]*math.log(sigmoid(X_train[i]@w))+(1-y_train[i])*math.log(1-sigmoid(X_train[i]@w)))               \n",
    "    E_ave_train.append(E_train/np.shape(X_train)[0])\n",
    "    for i in np.arange(np.shape(X_test)[0]):\n",
    "        E_test  += -(y_test[i]*math.log(sigmoid(X_test[i]@w))+(1-y_test[i])*math.log(1-sigmoid(X_test[i]@w)))               \n",
    "    E_ave_test.append(E_test/np.shape(X_test)[0])\n",
    "    correct = 0\n",
    "    correct1 = 0\n",
    "    predict_train =[]\n",
    "    for i in np.arange(np.shape(X_train)[0]):\n",
    "        if classif[i]>=0:\n",
    "            predict_train.append(1)\n",
    "        else:\n",
    "            predict_train.append(0)\n",
    "    for i in np.arange(np.shape(X_train)[0]):\n",
    "        if predict_train[i] == y_train[i]:\n",
    "            correct +=1\n",
    "        else:\n",
    "            continue\n",
    "    train_accuracy = correct / np.shape(X_train)[0]\n",
    "    acc.append(train_accuracy)\n",
    "    \n",
    "    predict_test = []\n",
    "    for i in np.arange(np.shape(X_test)[0]):\n",
    "        if classif_test[i]>=0:\n",
    "            predict_test.append(1)\n",
    "        else:\n",
    "            predict_test.append(0)\n",
    "    for i in np.arange(np.shape(X_test)[0]):\n",
    "        if predict_test[i] == y_test[i]:\n",
    "            correct1 +=1\n",
    "        else:\n",
    "            continue\n",
    "   \n",
    "    test_accuracy = correct1 / np.shape(X_test)[0]\n",
    "    acc_test.append(test_accuracy)\n",
    "plt.plot(np.arange(np.shape(X_train)[0]),acc,'r')\n",
    "plt.plot(np.arange(np.shape(X_train)[0]),acc_test,'b')\n",
    "plt.figure()\n",
    "plt.plot(np.arange(np.shape(X_train)[0]),E_ave_train)\n",
    "plt.plot(np.arange(np.shape(X_train)[0]),E_ave_test)\n",
    "plt.legend(['train','test'])\n",
    "plt.title('logistics')\n",
    "plt.savefig('logistics.png')\n",
    "plt.show()\n",
    "\n",
    "\n",
    "\n",
    "E_train_final = 0\n",
    "for i in np.arange(np.shape(X_train)[0]):\n",
    "    E_train_final  += -(y_train[i]*math.log(sigmoid(X_train[i]@w))+(1-y_train[i])*math.log(1-sigmoid(X_train[i]@w)))\n",
    "    \n",
    "E_test_final = 0\n",
    "for i in np.arange(np.shape(X_test)[0]):\n",
    "    E_test_final  += -(y_test[i]*math.log(sigmoid(X_test[i]@w))+(1-y_test[i])*math.log(1-sigmoid(X_test[i]@w))) \n",
    "print('X_train final cross_entropy',E_train_final/np.shape(X_train)[0])\n",
    "print('X_test final cross_entropy',E_test_final/np.shape(X_test)[0])"
   ]
  },
  {
   "cell_type": "code",
   "execution_count": null,
   "metadata": {
    "collapsed": true
   },
   "outputs": [],
   "source": []
  },
  {
   "cell_type": "code",
   "execution_count": null,
   "metadata": {
    "collapsed": true
   },
   "outputs": [],
   "source": []
  },
  {
   "cell_type": "code",
   "execution_count": null,
   "metadata": {
    "collapsed": true,
    "scrolled": true
   },
   "outputs": [],
   "source": []
  },
  {
   "cell_type": "code",
   "execution_count": null,
   "metadata": {
    "collapsed": true
   },
   "outputs": [],
   "source": []
  },
  {
   "cell_type": "code",
   "execution_count": null,
   "metadata": {
    "collapsed": true
   },
   "outputs": [],
   "source": []
  },
  {
   "cell_type": "code",
   "execution_count": null,
   "metadata": {
    "collapsed": true
   },
   "outputs": [],
   "source": []
  },
  {
   "cell_type": "code",
   "execution_count": null,
   "metadata": {
    "collapsed": true
   },
   "outputs": [],
   "source": []
  }
 ],
 "metadata": {
  "kernelspec": {
   "display_name": "Python [conda root]",
   "language": "python",
   "name": "conda-root-py"
  },
  "language_info": {
   "codemirror_mode": {
    "name": "ipython",
    "version": 3
   },
   "file_extension": ".py",
   "mimetype": "text/x-python",
   "name": "python",
   "nbconvert_exporter": "python",
   "pygments_lexer": "ipython3",
   "version": "3.6.3"
  }
 },
 "nbformat": 4,
 "nbformat_minor": 2
}
