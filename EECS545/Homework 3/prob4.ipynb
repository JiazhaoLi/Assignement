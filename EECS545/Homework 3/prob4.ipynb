{
 "cells": [
  {
   "cell_type": "code",
   "execution_count": 1,
   "metadata": {},
   "outputs": [
    {
     "data": {
      "text/plain": [
       "<matplotlib.figure.Figure at 0x2cba8de93c8>"
      ]
     },
     "metadata": {},
     "output_type": "display_data"
    },
    {
     "data": {
      "text/plain": [
       "<matplotlib.figure.Figure at 0x2cbab30f940>"
      ]
     },
     "metadata": {},
     "output_type": "display_data"
    }
   ],
   "source": [
    "from sklearn.datasets import load_iris\n",
    "import numpy as np\n",
    "import matplotlib.pyplot as plt\n",
    "import math\n",
    "iris=load_iris()\n",
    "\n",
    "# You have two features and two classifications\n",
    "data_0, data_1 = iris.data[:,1:3][:50], iris.data[:,1:3][50:100]\n",
    "data = iris.data[:,1:3][:100]\n",
    "\n",
    "mean_0 = np.asarray(np.mean(data_0,axis = 0)).reshape(2,1)\n",
    "mean_1 = np.asarray(np.mean(data_1,axis = 0)).reshape(2,1)\n",
    "mean =  np.asarray(np.mean(data,axis = 0)).reshape(2,1)\n",
    "data_0 = np.asarray(data_0).T\n",
    "data_1 = np.asarray(data_1).T\n",
    "data = np.asarray(data).T\n",
    "cov = (data-mean)@(data-mean).T/100\n",
    "cov_0 = (data_0-mean_0)@(data_0-mean_0).T/50\n",
    "cov_1 = (data_1-mean_1)@(data_1-mean_1).T/50\n",
    "# TODO: Compute the mean and covariance of each cluster, and use these to find a QDA Boundary\n",
    "# TODO: Compute the mean and covariance of the entire dataset, and use these to find a LDA Boundary\n",
    "# TODO: Make two scatterplots of the data, one showing the QDA Boundary and one showing the LDA Boundary\n",
    "\n",
    "def plot_LDA(mean_0,mean_1,sigma):\n",
    "    #LDA\n",
    "    plot_delta = 0.025\n",
    "    plot_x = np.arange(0,6, plot_delta)\n",
    "    plot_y = np.arange(0,6, plot_delta)\n",
    "    X, Y = np.meshgrid(plot_x, plot_y)\n",
    "    x_len = plot_x.shape[0]\n",
    "    y_len = plot_y.shape[0]\n",
    "    Z = np.zeros((x_len, y_len))\n",
    "    cov = np.linalg.inv(sigma)\n",
    "    for i in range(x_len):\n",
    "        for j in range(y_len):\n",
    "            point = np.array([X[j][i],Y[j][i]]).reshape(2,1)             \n",
    "            Z[j][i] =(mean_1-mean_0).T@cov@point-0.5*mean_1.T@cov@mean_1+0.5*mean_0.T@cov@mean_0\n",
    "    cs = plt.contour(X, Y, Z,levels=0)\n",
    "    plt.clabel(cs,fontsize=10)\n",
    "    plt.show()    \n",
    "for i in np.arange(50):\n",
    "    plt.plot(data_0[0,:],data_0[1,:],'o',color ='b')\n",
    "    plt.plot(data_1[0,:],data_1[1,:],'o',color ='r')\n",
    "plt.title('LDA')\n",
    "plot_LDA(mean_0,mean_1,cov)\n",
    "plt.savefig('LDA.png')\n",
    "def plot_QDA(mean_0,mean_1,sigma_0,sigma_1):\n",
    "    #LDA\n",
    "    plot_delta = 0.025\n",
    "    plot_x = np.arange(0,6, plot_delta)\n",
    "    plot_y = np.arange(0,6, plot_delta)\n",
    "    X, Y = np.meshgrid(plot_x, plot_y)\n",
    "    x_len = plot_x.shape[0]\n",
    "    y_len = plot_y.shape[0]\n",
    "    Z = np.zeros((x_len, y_len))\n",
    "    temp0 = 1/np.sqrt((2*math.pi)**2*np.linalg.det(sigma_0))\n",
    "    temp1 = 1/np.sqrt((2*math.pi)**2*np.linalg.det(sigma_1))\n",
    "    cov_0 = np.linalg.inv(sigma_0)\n",
    "    cov_1 = np.linalg.inv(sigma_1)\n",
    "    a = np.linalg.det(sigma_0)/np.linalg.det(sigma_1)\n",
    "    \n",
    "    for i in range(x_len):\n",
    "        for j in range(y_len):\n",
    "            point = np.array([X[j][i],Y[j][i]]).reshape(2,1)\n",
    "            p0 = temp0*np.exp(-1/2*((point-mean_0).T@np.linalg.inv(sigma_0)@(point-mean_0)))*0.5\n",
    "            p1 = temp1*np.exp(-1/2*((point-mean_1).T@np.linalg.inv(sigma_1)@(point-mean_1)))*0.5\n",
    "            Z[j][i] =p0-p1\n",
    "    cs = plt.contour(X, Y, Z,10,levels =0)\n",
    "    plt.clabel(cs,fontsize=10)\n",
    "    plt.show()\n",
    "\n",
    "for i in np.arange(50):\n",
    "    plt.plot(data_0[0,:],data_0[1,:],'o',color ='b')\n",
    "    plt.plot(data_1[0,:],data_1[1,:],'o',color ='r')\n",
    "plt.title('QDA')\n",
    "plot_QDA(mean_0,mean_1,cov_0,cov_1)\n",
    "plt.savefig('QDA.png')"
   ]
  },
  {
   "cell_type": "code",
   "execution_count": 4,
   "metadata": {},
   "outputs": [
    {
     "data": {
      "image/png": "[encoded data removed]",
      "text/plain": [
       "<matplotlib.figure.Figure at 0x1ede7adc630>"
      ]
     },
     "metadata": {},
     "output_type": "display_data"
    },
    {
     "data": {
      "text/plain": [
       "<matplotlib.figure.Figure at 0x1ede7ad1f98>"
      ]
     },
     "metadata": {},
     "output_type": "display_data"
    }
   ],
   "source": []
  },
  {
   "cell_type": "code",
   "execution_count": null,
   "metadata": {},
   "outputs": [],
   "source": []
  },
  {
   "cell_type": "code",
   "execution_count": null,
   "metadata": {},
   "outputs": [],
   "source": [
    "\n"
   ]
  },
  {
   "cell_type": "code",
   "execution_count": 168,
   "metadata": {},
   "outputs": [],
   "source": []
  },
  {
   "cell_type": "code",
   "execution_count": null,
   "metadata": {},
   "outputs": [],
   "source": []
  },
  {
   "cell_type": "code",
   "execution_count": null,
   "metadata": {},
   "outputs": [],
   "source": []
  }
 ],
 "metadata": {
  "kernelspec": {
   "display_name": "Python 3",
   "language": "python",
   "name": "python3"
  },
  "language_info": {
   "codemirror_mode": {
    "name": "ipython",
    "version": 3
   },
   "file_extension": ".py",
   "mimetype": "text/x-python",
   "name": "python",
   "nbconvert_exporter": "python",
   "pygments_lexer": "ipython3",
   "version": "3.6.4"
  }
 },
 "nbformat": 4,
 "nbformat_minor": 2
}
