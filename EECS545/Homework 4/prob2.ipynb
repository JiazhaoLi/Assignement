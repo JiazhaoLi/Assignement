{
 "cells": [
  {
   "cell_type": "code",
   "execution_count": null,
   "metadata": {},
   "outputs": [
    {
     "name": "stdout",
     "output_type": "stream",
     "text": [
      "(70000, 784)\n"
     ]
    }
   ],
   "source": [
    "import numpy as np\n",
    "\n",
    "from sklearn import datasets, svm\n",
    "#fetch original mnist dataset\n",
    "from sklearn.datasets import fetch_mldata\n",
    "\n",
    "mnist = fetch_mldata('MNIST original', data_home='./')\n",
    "\n",
    "images = mnist.data\n",
    "targets = mnist.target\n",
    "\n",
    "N = len(images)\n",
    "np.random.seed(1234)\n",
    "inds = np.random.permutation(N)\n",
    "images = np.array([images[i] for i in inds])\n",
    "targets = np.array([targets[i] for i in inds])\n",
    "# Normalize data\n",
    "X_data = images/255.0\n",
    "Y = targets\n",
    "print(np.shape(X_data))\n",
    "# Train/test split\n",
    "X_train, y_train = X_data[:10000], Y[:10000]\n",
    "X_test, y_test = X_data[-10000:], Y[-10000:]\n",
    "# Standard scientific Python imports\n",
    "import matplotlib.pyplot as plt\n",
    "\n",
    "# Import datasets, classifiers and performance metrics\n",
    "from sklearn import datasets, svm, metrics\n",
    "\n",
    "# classifier = svm.SVC(C=1,gamma=1,kernel='rbf')\n",
    "# classifier.fit(X_train, y_train)\n",
    "# classifier.score(X_test,y_test)\n",
    "\n",
    "temp = np.arange(X_train.shape[0])\n",
    "np.random.shuffle(temp)\n",
    "x = X_train[temp]\n",
    "y = y_train[temp]\n",
    "\n",
    "n = int(len(X_train)/5)\n",
    "\n",
    "x_1, y_1 = x[:n], y[:n]\n",
    "x_2, y_2 = x[n:n*2], y[n:n*2]\n",
    "x_3, y_3 = x[n*2:n*3], y[n*2:n*3]\n",
    "x_4, y_4 = x[n*3:n*4], y[n*3:n*4]\n",
    "x_5, y_5 = x[n*4:], y[n*4:]\n",
    "\n",
    "train_1_x = np.vstack((x_1,x_2,x_3,x_4))\n",
    "train_1_y = np.hstack((y_1,y_2,y_3,y_4))\n",
    "\n",
    "train_2_x = np.vstack((x_1,x_2,x_3,x_5))\n",
    "train_2_y = np.hstack((y_1,y_2,y_3,y_5))\n",
    "\n",
    "train_3_x = np.vstack((x_1,x_2,x_4,x_5))\n",
    "train_3_y = np.hstack((y_1,y_2,y_4,y_5))\n",
    "\n",
    "train_4_x = np.vstack((x_1,x_3,x_4,x_5))\n",
    "train_4_y = np.hstack((y_1,y_3,y_4,y_5))\n",
    "\n",
    "train_5_x = np.vstack((x_2,x_3,x_4,x_5))\n",
    "train_5_y = np.hstack((y_2,y_3,y_4,y_5))\n",
    "\n",
    "accuracy = np.zeros((3,4))\n",
    "\n",
    "C = [1,3,5]\n",
    "gamma = [0.05,0.1,0.5,1]\n",
    "for i in range(3):\n",
    "    for j in range(4):\n",
    "        classifier = svm.SVC(C=C[i],gamma=gamma[j],kernel='rbf')\n",
    "        classifier.fit(train_1_x, train_1_y)\n",
    "        ac1 = classifier.score(x_5,y_5)\n",
    "        \n",
    "        classifier = svm.SVC(C=C[i],gamma=gamma[j],kernel='rbf')\n",
    "        classifier.fit(train_2_x, train_2_y)\n",
    "        ac2 = classifier.score(x_4,y_4)        \n",
    "        \n",
    "        classifier = svm.SVC(C=C[i],gamma=gamma[j],kernel='rbf')\n",
    "        classifier.fit(train_3_x, train_3_y)\n",
    "        ac3 = classifier.score(x_3,y_3)\n",
    "        \n",
    "        classifier = svm.SVC(C=C[i],gamma=gamma[j],kernel='rbf')\n",
    "        classifier.fit(train_4_x, train_4_y)\n",
    "        ac4 = classifier.score(x_2,y_2)\n",
    "        \n",
    "        classifier = svm.SVC(C=C[i],gamma=gamma[j],kernel='rbf')\n",
    "        classifier.fit(train_5_x, train_5_y)\n",
    "        ac5 = classifier.score(x_1,y_1)\n",
    "        \n",
    "        accuracy[i,j] = (ac1 + ac2 + ac3 + ac4 + ac5)/5\n",
    "print(accuracy)\n",
    "\n",
    "classifier = svm.SVC(C=3,gamma=0.05,kernel='rbf')\n",
    "classifier.fit(X_train, y_train)\n",
    "classifier.score(X_test,y_test)"
   ]
  },
  {
   "cell_type": "code",
   "execution_count": 6,
   "metadata": {},
   "outputs": [
    {
     "name": "stdout",
     "output_type": "stream",
     "text": [
      "[ 4.  9.  6. ...,  0.  5.  9.]\n",
      "(70000, 784)\n",
      "[ 4.  9.  6. ...,  5.  4.  5.]\n"
     ]
    }
   ],
   "source": [
    "import numpy as np\n",
    "\n",
    "from sklearn import datasets, svm\n",
    "#fetch original mnist dataset\n",
    "from sklearn.datasets import fetch_mldata\n",
    "\n",
    "mnist = fetch_mldata('MNIST original', data_home='./')\n",
    "\n",
    "images = mnist.data\n",
    "targets = mnist.target\n",
    "\n",
    "N = len(images)\n",
    "np.random.seed(1234)\n",
    "inds = np.random.permutation(N)\n",
    "images = np.array([images[i] for i in inds])\n",
    "targets = np.array([targets[i] for i in inds])\n",
    "# Normalize data\n",
    "X_data = images/255.0\n",
    "Y = targets\n",
    "print(Y)\n",
    "print(np.shape(X_data))\n",
    "# Train/test split\n",
    "X_train, y_train = X_data[:10000], Y[:10000]\n",
    "X_test, y_test = X_data[-10000:], Y[-10000:]\n",
    "# Standard scientific Python imports\n",
    "print(y_train)"
   ]
  },
  {
   "cell_type": "code",
   "execution_count": null,
   "metadata": {
    "collapsed": true
   },
   "outputs": [],
   "source": []
  },
  {
   "cell_type": "code",
   "execution_count": null,
   "metadata": {},
   "outputs": [],
   "source": []
  },
  {
   "cell_type": "code",
   "execution_count": null,
   "metadata": {
    "collapsed": true
   },
   "outputs": [],
   "source": []
  }
 ],
 "metadata": {
  "kernelspec": {
   "display_name": "Python 3",
   "language": "python",
   "name": "python3"
  },
  "language_info": {
   "codemirror_mode": {
    "name": "ipython",
    "version": 3
   },
   "file_extension": ".py",
   "mimetype": "text/x-python",
   "name": "python",
   "nbconvert_exporter": "python",
   "pygments_lexer": "ipython3",
   "version": "3.6.4"
  }
 },
 "nbformat": 4,
 "nbformat_minor": 2
}
