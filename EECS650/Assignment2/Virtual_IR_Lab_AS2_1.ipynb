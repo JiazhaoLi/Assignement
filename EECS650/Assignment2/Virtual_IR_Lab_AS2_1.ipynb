{
 "cells": [
  {
   "cell_type": "markdown",
   "metadata": {
    "colab_type": "text",
    "id": "w0ieeEVXScqP"
   },
   "source": [
    "This notebook is used for SI 650 Information Retrieval class. You should implement retrieval functions and report corresponding results in your submission on Canvas. \n"
   ]
  },
  {
   "cell_type": "code",
   "execution_count": 1,
   "metadata": {
    "colab": {},
    "colab_type": "code",
    "id": "56RZ6Ya_SYng"
   },
   "outputs": [
    {
     "name": "stdout",
     "output_type": "stream",
     "text": [
      "Requirement already satisfied: metapy in /Users/jiazhaoli/Applications/miniconda3/lib/python3.7/site-packages (0.2.13)\r\n"
     ]
    }
   ],
   "source": [
    "# install metapy, it may take several minutes.\n",
    "!pip install metapy\n",
    "import metapy\n",
    "import __future__"
   ]
  },
  {
   "cell_type": "code",
   "execution_count": 2,
   "metadata": {
    "colab": {},
    "colab_type": "code",
    "id": "ey5kOfZiSd2_"
   },
   "outputs": [
    {
     "name": "stdout",
     "output_type": "stream",
     "text": [
      "File ‘lemur-stopwords.txt’ already there; not retrieving.\n",
      "\n",
      "--2018-10-08 18:05:18--  https://meta-toolkit.org/data/2016-11-10/cranfield.tar.gz\n",
      "Resolving meta-toolkit.org (meta-toolkit.org)... 50.116.41.177\n",
      "Connecting to meta-toolkit.org (meta-toolkit.org)|50.116.41.177|:443... connected.\n",
      "HTTP request sent, awaiting response... 304 Not Modified\n",
      "File ‘cranfield.tar.gz’ not modified on server. Omitting download.\n",
      "\n"
     ]
    }
   ],
   "source": [
    "# Reading Data\n",
    "!wget -nc https://raw.githubusercontent.com/meta-toolkit/meta/master/data/lemur-stopwords.txt\n",
    "!wget -N https://meta-toolkit.org/data/2016-11-10/cranfield.tar.gz\n",
    "!tar xf cranfield.tar.gz"
   ]
  },
  {
   "cell_type": "code",
   "execution_count": 3,
   "metadata": {
    "colab": {},
    "colab_type": "code",
    "id": "orgxVgu0TMFF"
   },
   "outputs": [],
   "source": [
    "# Setting dataset\n",
    "with open('cranfield/tutorial.toml', 'w') as f:\n",
    "    f.write('type = \"line-corpus\"\\n')\n",
    "    f.write('store-full-text = true\\n')\n",
    "\n",
    "config = \"\"\"prefix = \".\" # tells MeTA where to search for datasets\n",
    "\n",
    "dataset = \"cranfield\" # a subfolder under the prefix directory\n",
    "corpus = \"tutorial.toml\" # a configuration file for the corpus specifying its format & additional args\n",
    "\n",
    "index = \"cranfield-idx\" # subfolder of the current working directory to place index files\n",
    "\n",
    "query-judgements = \"cranfield/cranfield-qrels.txt\" # file containing the relevance judgments for this dataset\n",
    "\n",
    "stop-words = \"lemur-stopwords.txt\"\n",
    "\n",
    "[[analyzers]]\n",
    "method = \"ngram-word\"\n",
    "ngram = 1\n",
    "filter = \"default-unigram-chain\"\n",
    "\"\"\"\n",
    "with open('cranfield-config.toml', 'w') as f:\n",
    "    f.write(config)"
   ]
  },
  {
   "cell_type": "markdown",
   "metadata": {
    "colab_type": "text",
    "id": "oFEZSvf6Tk1j"
   },
   "source": [
    "# **1. Build Retrieval Function**"
   ]
  },
  {
   "cell_type": "code",
   "execution_count": 4,
   "metadata": {
    "colab": {},
    "colab_type": "code",
    "id": "3xWGLrMITjbA"
   },
   "outputs": [],
   "source": [
    "# Make sure you have installed metapy package and downloaded the data before running the following code"
   ]
  },
  {
   "cell_type": "code",
   "execution_count": 5,
   "metadata": {
    "colab": {},
    "colab_type": "code",
    "id": "fRtZ2uKbUBM9"
   },
   "outputs": [],
   "source": [
    "# Build the index for dataset.\n",
    "inv_idx = metapy.index.make_inverted_index('cranfield-config.toml')"
   ]
  },
  {
   "cell_type": "code",
   "execution_count": 6,
   "metadata": {
    "colab": {},
    "colab_type": "code",
    "id": "Mte5wKCrUHBN"
   },
   "outputs": [],
   "source": [
    "class  SimpleRanker (metapy.index.RankingFunction):                                            \n",
    "                                                                       \n",
    "    def __init__(self, some_param=1.0):                                             \n",
    "        self.param = some_param\n",
    "        super(SimpleRanker, self).__init__()                                        \n",
    "                                                                                 \n",
    "    def score_one(self, sd):\n",
    "        return (self.param + sd.doc_term_count) / (self.param * sd.doc_unique_terms + sd.doc_size)"
   ]
  },
  {
   "cell_type": "markdown",
   "metadata": {
    "colab_type": "text",
    "id": "dKwhuSRAmqCQ"
   },
   "source": [
    "**Add your answer in the cells below:**"
   ]
  },
  {
   "cell_type": "code",
   "execution_count": 7,
   "metadata": {
    "colab": {},
    "colab_type": "code",
    "id": "Uzo4YK2KUatY"
   },
   "outputs": [],
   "source": [
    "import math\n",
    "class Pivoted(metapy.index.RankingFunction):                                                                                                                    \n",
    "    def __init__(self, s = 0.1):                                             \n",
    "        self.s = s\n",
    "        # You *must* invoke the base class __init__() here!\n",
    "        super(Pivoted, self).__init__()                                        \n",
    "                                                                                 \n",
    "    def score_one(self, sd):\n",
    "        \"\"\"\n",
    "        You need to override this function to return a score for a single term.\n",
    "        \n",
    "        You may want to call some of the following variables when implementing your retrieval function:\n",
    "        \n",
    "        \n",
    "        sd.avg_dl: average document length of the collection\n",
    "        sd.num_docs: total number of documents in the index\n",
    "        sd.total_terms: total number of terms in the index\n",
    "        sd.query_length: the total length of the current query (sum of all term weights)\n",
    "        sd.query_term_weight: query term count (or weight in case of feedback)\n",
    "        sd.doc_count: number of documents that a term t_id appears in\n",
    "        sd.corpus_term_count: number of times a term t_id appears in the collection\n",
    "        sd.doc_term_count: number of times the term appears in the current document\n",
    "        sd.doc_size: total number of terms in the current document\n",
    "        sd.doc_unique_terms: number of unique terms in the current document\n",
    "        \n",
    "        \"\"\"\n",
    "        \n",
    "        s = self.s      \n",
    "        #Fill your answers here\n",
    "        IDF =  (sd.num_docs+1) / sd.doc_count \n",
    "        Nor_TF = (1 + math.log(1+math.log(sd.doc_term_count))) / (1-s +s *sd.total_terms/sd.avg_dl)\n",
    "        TF = sd.corpus_term_count\n",
    "        \n",
    "        return math.log(IDF*Nor_TF*TF)"
   ]
  },
  {
   "cell_type": "code",
   "execution_count": 8,
   "metadata": {
    "colab": {},
    "colab_type": "code",
    "id": "yR4CPUHfcFJH"
   },
   "outputs": [],
   "source": [
    "import math\n",
    "\n",
    "class BM25(metapy.index.RankingFunction):                                            \n",
    "    \"\"\"                                                                          \n",
    "    Create a new ranking function in Python that can be used in MeTA.             \n",
    "    \"\"\"                                                                          \n",
    "    def __init__(self, k1 = 1.2, b = 0.75, k3 = 500):                                             \n",
    "        self.k1 = k1\n",
    "        self.b = b\n",
    "        self.k3 = k3\n",
    "        # You *must* invoke the base class __init__() here!\n",
    "        super(BM25, self).__init__()                                        \n",
    "                                                                                 \n",
    "    def score_one(self, sd):\n",
    "        \"\"\"\n",
    "        You need to override this function to return a score for a single term.\n",
    "        \n",
    "        You may want to call some of the following variables when implementing your retrieval function:\n",
    "        \n",
    "        sd.avg_dl: average document length of the collection\n",
    "        sd.num_docs: total number of documents in the index\n",
    "        sd.total_terms: total number of terms in the index\n",
    "        sd.query_length: the total length of the current query (sum of all term weights)\n",
    "        sd.query_term_weight: query term count (or weight in case of feedback)\n",
    "        sd.doc_count: number of documents that a term t_id appears in\n",
    "        sd.corpus_term_count: number of times a term t_id appears in the collection\n",
    "        sd.doc_term_count: number of times the term appears in the current document\n",
    "        sd.doc_size: total number of terms in the current document\n",
    "        sd.doc_unique_terms: number of unique terms in the current document\n",
    "        \n",
    "        \"\"\"\n",
    "        k1 = self.k1\n",
    "        b = self.b\n",
    "        k3 = self.k3\n",
    "        \n",
    "        #Fill your answer here\n",
    "        \n",
    "        V_IDF = (sd.num_docs - sd.doc_count + 0.5) /(sd.doc_count + 0.5)\n",
    "        N_TF = (k1+1)* sd.doc_term_count / (k1*(1-b+b*sd.total_terms/sd.avg_dl) + sd.doc_term_count)\n",
    "        QTF = (k3+1)*sd.corpus_term_count / (k3 + sd.corpus_term_count)\n",
    "        return math.log(V_IDF * N_TF * QTF)"
   ]
  },
  {
   "cell_type": "code",
   "execution_count": 9,
   "metadata": {
    "colab": {},
    "colab_type": "code",
    "id": "whAqYkdGUa00"
   },
   "outputs": [],
   "source": [
    "# We currently use the simple ranker here. Please change it to Pivoted Ranker after you implement it.\n",
    "# ranker = SimpleRanker()\n",
    "#ranker = Pivoted()   \n",
    "ranker = BM25(0.7) "
   ]
  },
  {
   "cell_type": "markdown",
   "metadata": {
    "colab_type": "text",
    "id": "YOrwkoJVV5_y"
   },
   "source": [
    "# **2 Evaluate Retrieval Function**"
   ]
  },
  {
   "cell_type": "code",
   "execution_count": 10,
   "metadata": {
    "colab": {},
    "colab_type": "code",
    "id": "Ixliy5BIV-Df"
   },
   "outputs": [],
   "source": [
    "ev = metapy.index.IREval('cranfield-config.toml')"
   ]
  },
  {
   "cell_type": "code",
   "execution_count": null,
   "metadata": {
    "colab": {},
    "colab_type": "code",
    "id": "6lCb5xVGWIN4"
   },
   "outputs": [],
   "source": [
    "# Evaluate top 30 search results for cranfield dataset\n",
    "num_results = 30\n",
    "\n",
    "precision_list = []\n",
    "with open('cranfield/cranfield-queries.txt') as query_file:\n",
    "    for query_num, line in enumerate(query_file):\n",
    "        query = metapy.index.Document()\n",
    "        query.content(line.strip())\n",
    "        results = ranker.score(inv_idx, query, num_results)                            \n",
    "        avg_p = ev.avg_p(results, query_num + 1, num_results)\n",
    "        precision_list.append(ev.precision(results,query_num+1,num_results))\n",
    "        "
   ]
  },
  {
   "cell_type": "code",
   "execution_count": null,
   "metadata": {
    "colab": {},
    "colab_type": "code",
    "id": "3RUJWlXcExLj"
   },
   "outputs": [],
   "source": []
  },
  {
   "cell_type": "code",
   "execution_count": 96,
   "metadata": {
    "colab": {},
    "colab_type": "code",
    "id": "zlY4ZlVjW2HH"
   },
   "outputs": [
    {
     "name": "stdout",
     "output_type": "stream",
     "text": [
      "MAP: 0.243207891444\n",
      "Precison@30 0.110074074074\n"
     ]
    }
   ],
   "source": [
    "# Print Ranking Performance\n",
    "print \"MAP:\", ev.map()\n",
    "print \"Precison@30\",sum(precision_list) / len(precision_list)"
   ]
  },
  {
   "cell_type": "code",
   "execution_count": 93,
   "metadata": {},
   "outputs": [],
   "source": [
    "ranker = BM25(b= 0.8) "
   ]
  },
  {
   "cell_type": "markdown",
   "metadata": {
    "colab_type": "text",
    "id": "AoRqux1TmUT0"
   },
   "source": [
    "**Add your answer in the cells below:**\n"
   ]
  },
  {
   "cell_type": "code",
   "execution_count": 0,
   "metadata": {
    "colab": {},
    "colab_type": "code",
    "id": "MKMCHBtFXADS"
   },
   "outputs": [],
   "source": [
    "# Evaluate different settings for Pivoted and BM25.\n"
   ]
  },
  {
   "cell_type": "markdown",
   "metadata": {
    "colab_type": "text",
    "id": "gd7umO_DmdmQ"
   },
   "source": [
    "Please draw plots to report the results of parameter tuning for Pivoted and BM25."
   ]
  },
  {
   "cell_type": "code",
   "execution_count": 112,
   "metadata": {
    "colab": {},
    "colab_type": "code",
    "id": "W7Ne_O5nmkRq"
   },
   "outputs": [],
   "source": [
    "from matplotlib import pyplot as plt\n",
    "BM25_list = []\n",
    "Pivoted_list = []\n",
    "index_list = []\n",
    "for i in range(1,10):\n",
    "    # Pivoted\n",
    "    ranker = Pivoted(0.1*i) \n",
    "    index_list.append(0.1*i)\n",
    "    ev = metapy.index.IREval('cranfield-config.toml')\n",
    "    # Evaluate top 30 search results for cranfield dataset\n",
    "    num_results = 30\n",
    "    with open('cranfield/cranfield-queries.txt') as query_file:\n",
    "        for query_num, line in enumerate(query_file):\n",
    "            query = metapy.index.Document()\n",
    "            query.content(line.strip())\n",
    "            results = ranker.score(inv_idx, query, num_results)                            \n",
    "            avg_p = ev.avg_p(results, query_num + 1, num_results)\n",
    "            precision_list.append(ev.precision(results,query_num+1,num_results))\n",
    "    Pivoted_list.append(ev.map())\n",
    "    # BM25\n",
    "    ranker = BM25(b = 0.1*i)\n",
    "    ev = metapy.index.IREval('cranfield-config.toml')\n",
    "    # Evaluate top 30 search results for cranfield dataset\n",
    "    num_results = 30\n",
    "    with open('cranfield/cranfield-queries.txt') as query_file:\n",
    "        for query_num, line in enumerate(query_file):\n",
    "            query = metapy.index.Document()\n",
    "            query.content(line.strip())\n",
    "            results = ranker.score(inv_idx, query, num_results)                            \n",
    "            avg_p = ev.avg_p(results, query_num + 1, num_results)\n",
    "            precision_list.append(ev.precision(results,query_num+1,num_results))\n",
    "    BM25_list.append(ev.map())\n"
   ]
  },
  {
   "cell_type": "code",
   "execution_count": 113,
   "metadata": {},
   "outputs": [
    {
     "data": {
      "image/png": "[encoded data removed]",
      "text/plain": [
       "<Figure size 432x288 with 1 Axes>"
      ]
     },
     "metadata": {},
     "output_type": "display_data"
    },
    {
     "name": "stdout",
     "output_type": "stream",
     "text": [
      "Pivoted[0.21238305103037858, 0.2175902706362351, 0.2229121125896805, 0.22734155118542365, 0.23169769307507965, 0.23534602411256075, 0.2405853155823801, 0.24241406744259145, 0.2444605999175258]\n",
      "BM25[0.22779768088695365, 0.2348880374041246, 0.24134106556798465, 0.24089455717230215, 0.24218315301991278, 0.24232651926805812, 0.24387140499265503, 0.24320789144366314, 0.24265017076688658]\n"
     ]
    }
   ],
   "source": [
    "plt.figure()\n",
    "plt.plot(index_list,Pivoted_list)\n",
    "plt.xlabel('parameters')\n",
    "plt.ylabel('MAP score')\n",
    "plt.plot(index_list,BM25_list)\n",
    "plt.legend(['Pivoted','BM25'])\n",
    "plt.grid()\n",
    "plt.show()\n",
    "print(\"Pivoted\"+str(Pivoted_list))\n",
    "print(\"BM25\"+str(BM25_list))"
   ]
  },
  {
   "cell_type": "markdown",
   "metadata": {
    "colab_type": "text",
    "id": "D3eCOuatYSa8"
   },
   "source": [
    "# Testing Search Results for a Single Query"
   ]
  },
  {
   "cell_type": "code",
   "execution_count": 78,
   "metadata": {
    "colab": {},
    "colab_type": "code",
    "id": "pY8niuLdYZs2"
   },
   "outputs": [],
   "source": [
    "query = metapy.index.Document()\n",
    "query.content(\"fluid\")\n",
    "top_docs = ranker.score(inv_idx, query, num_results=5)"
   ]
  },
  {
   "cell_type": "code",
   "execution_count": 79,
   "metadata": {
    "colab": {},
    "colab_type": "code",
    "id": "YQpQX0bQYdIh"
   },
   "outputs": [
    {
     "name": "stdout",
     "output_type": "stream",
     "text": [
      "1. turbulent boundary layer in compressible fluids . the continuity, momentum, and energy differential equations for turbulent flow of a compressible fluid are derived, and the apparent turbulent stresses and dissipation function are identified .  a general formula for skin friction, including heat transfer to a flat plate, is developed for a thin turbulent boundary layer in compressible fluids with zero pressure gradient .  curves are presented giving skin-friction coefficients and heat-transfer coefficients for air for various wall-to-free-stream temperature ratios and free-stream mach numbers . in the special case when the boundary layer is insulated, this general formula yields skin-friction coefficients higher than those given by the von karman wall-property compressible-fluid formula but lower than those given by the von karman incompressible-fluid formula .  heat transfer from the boundary layer to the plate generally increases the friction and heat-transfer coefficients ....\n",
      "\n",
      "2. investigation of the stability of the laminar boundary layer in a compressible fluid . in the present report the stability of two-dimensional laminar flows of a gas is investigated by the method of small perturbations . the chief emphasis is placed on the case of the laminar boundary layer . part 1 of the present report deals with the general mathematical theory .  the general equations governing one normal mode of the small velocity and temperature disturbances are derived and studied in great detail .  it is found that for reynolds numbers of the order of those encountered in most aerodynamic problems, the temperature disturbances have only a negligible effect on those particular velocity solutions which depend primarily on the viscosity coefficient (/viscous solutions/) .  indeed, the latter are actually of the same form in the compressible fluid as in the incompressible fluid, at least to the first approximation .  because of this fact, the mathematical analysis is greatly simplified .  the final equation determining the characteristic values of the stability problem depends on the /inviscid solutions/ and the function of tietjens in a manner very similar to the case of the incompressible fluid .  the second viscosity coefficient and the coefficient of heat conductivity do not enter the problem,. only the ordinary coefficient of viscosity near the solid surface is involved . part 2 deals with the limiting case of infinite reynolds numbers . the study of energy relations is very much emphasized .  it is shown that the disturbance will gain energy from the main flow if the gradient of the product of mean density and mean vorticity near the solid surface has a sign opposite to that near the outer edge of the boundary layer . a general stability criterion has been obtained in terms of the gradient of the product of density and vorticity, analogous to the rayleigh-tollmien criterion for the case of an incompressible fluid . if this gradient vanishes for some value of the velocity ratio of the main flow exceeding 1-1/m (where m is the free stream mach number) ....\n",
      "\n",
      "3. an analysis of base pressure at supersonic speeds and comparison with experiment . in the first part of the investigation an analysis is made of base pressure in an inviscid fluid, both for two-dimensional and axially-symmetric flow .  it is shown that for two-dimensional flow, and also for the flow over a body of revolution with a cylindrical sting attached to the base, there are an infinite number of possible solutions satisfying all necessary boundary conditions at any given free-stream mach number . for the particular case of a body having no sting attached only one solution is possible in an inviscid flow, but it corresponds to zero base drag .  accordingly, it is concluded that a strictly inviscid-fluid theory cannot be satisfactory for practical applications . since the exact inviscid-fluid theory does not adequately describe the conditions of a real fluid flow, an approximate semi-empirical theory for base pressure in a viscous fluid is developed in a second part of the investigation .  the semi-empirical theory is based partly on inviscid-flow calculations, and is restricted to airfoils and bodies without boat-tailing .  in this theory an attempt is made to allow for the effects of mach number, reynolds number, profile shape, and type of boundary-layer flow .  the results of some recent experimental measurements of base pressure in two-dimensional and axially-symmetric flow are presented for purposes of comparison .  some experimental results also are presented concerning the support interference effect of a cylindrical sting, and the interference effect of a reflected bow wave on measurements of base pressure in a supersonic wind tunnel ....\n",
      "\n",
      "4. the generation of noise by isotropic turbulence . a finite region, with fixed boundaries, of an infinite expanse of compressible fluid is in turbulent motion .  this motion generates noise and radiates it into the surrounding fluid . the acoustic properties of the system are studied in the special case in which the turbulent region consists of decaying isotropic turbulence . it is assumed that the reynolds number of the turbulence is large, and that the mach number is small . the noise appears to be generated mainly by those eddies of the turbulence whose contribution to the rate of dissipation of kinetic energy by viscosity is negligible . it is shown that the intensity of sound at large distances from the turbulence is the same as that due to a volume distribution of simple acoustic sources occupying the turbulent region . in this analogy, the whole fluid is to be regarded as a stationary and uniform acoustic medium .  the local value of the acoustic power output p per mass of turbulent fluid is given approximately by the formula where a is a numerical constant, u is the mean-square velocity fluctuation, is the time, and c is the velocity of sound in the fluid .  the constant a is expressed in terms of the well-known velocity correlation function f(r) by assuming the joint probability distribution of the turbulent velocities and their first two time-derivatives at two points in space to be gaussian .  the numerical value is then obtained by substituting the form of f(r) corresponding to heisenberg's theoretical spectrum of isotropic turbulence . it is found that the effects of decay make only a small contribution to the value of a, and that the order of magnitude of a is not changed when widely differing forms of the function f(r) are used ....\n",
      "\n",
      "5. the problem of resistance in compressible fluids . this report is restricted to the resistance of bodies of revolution and of cylindrical bodies of infinite length moving with uniform velocity in a compressible fluid .  in the case of bodies of revolution it will be assumed that the direction of the movement is parallel to the axis of symmetry . it will be assumed that the fluid satisfies the equation of state of perfect gases, i. e. const., where p denotes the pressure, the density and t the absolute temperature .  in addition to obeying this equation the fluid is characterized by the statement that the intrinsic energy of the unit mass amounts to where for simplicity's sake the specific heat will be expressed in work rather than heat units .  the ratio between the specific heat at constant pressure and the specific heat at constant volume will be denoted by .  it is known that the value of x depends upon the number of degrees of freedom of the molecules,. if this number is denoted by n .  for air the value x = 1.4 will be used . the limiting case x = 1 will be referred to as that of a assumed that in the range considered and are independent of the temperature ....\n",
      "\n"
     ]
    }
   ],
   "source": [
    "for num, (d_id, _) in enumerate(top_docs):\n",
    "    content = inv_idx.metadata(d_id).get('content')\n",
    "    print(\"{}. {}...\\n\".format(num + 1, content))"
   ]
  },
  {
   "cell_type": "markdown",
   "metadata": {
    "colab_type": "text",
    "id": "KDqQ0j-oignb"
   },
   "source": [
    "**Please submit your code for Pivoted and BM25 class to canvas. We need your code to verify your results.**"
   ]
  },
  {
   "cell_type": "code",
   "execution_count": 0,
   "metadata": {
    "colab": {},
    "colab_type": "code",
    "id": "nZT76HDoh0sM"
   },
   "outputs": [],
   "source": []
  }
 ],
 "metadata": {
  "colab": {
   "collapsed_sections": [],
   "name": "Virtual_IR_Lab AS2-1",
   "provenance": [],
   "version": "0.3.2"
  },
  "kernelspec": {
   "display_name": "Python 3",
   "language": "python",
   "name": "python3"
  },
  "language_info": {
   "codemirror_mode": {
    "name": "ipython",
    "version": 3
   },
   "file_extension": ".py",
   "mimetype": "text/x-python",
   "name": "python",
   "nbconvert_exporter": "python",
   "pygments_lexer": "ipython3",
   "version": "3.7.0"
  }
 },
 "nbformat": 4,
 "nbformat_minor": 1
}
