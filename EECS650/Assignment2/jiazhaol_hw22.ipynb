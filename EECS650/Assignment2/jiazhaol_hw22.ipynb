{
  "nbformat": 4,
  "nbformat_minor": 0,
  "metadata": {
    "colab": {
      "name": "Virtual_IR_Lab_AS2_2.ipynb",
      "version": "0.3.2",
      "provenance": [],
      "collapsed_sections": []
    }
  },
  "cells": [
    {
      "metadata": {
        "id": "w0ieeEVXScqP",
        "colab_type": "text"
      },
      "cell_type": "markdown",
      "source": [
        "This notebook is used for SI 650 Information Retrieval class. You should implement retrieval functions and report corresponding results in your submission on Canvas. \n"
      ]
    },
    {
      "metadata": {
        "id": "56RZ6Ya_SYng",
        "colab_type": "code",
        "colab": {
          "base_uri": "https://localhost:8080/",
          "height": 34
        },
        "outputId": "59d9f7d4-2a97-4ef1-d619-c5e4ab44ca22"
      },
      "cell_type": "code",
      "source": [
        "# install metapy, it may take several minutes.\n",
        "!pip install metapy\n",
        "import metapy"
      ],
      "execution_count": 100,
      "outputs": [
        {
          "output_type": "stream",
          "text": [
            "Requirement already satisfied: metapy in /usr/local/lib/python2.7/dist-packages (0.2.13)\n"
          ],
          "name": "stdout"
        }
      ]
    },
    {
      "metadata": {
        "id": "ey5kOfZiSd2_",
        "colab_type": "code",
        "colab": {
          "base_uri": "https://localhost:8080/",
          "height": 255
        },
        "outputId": "7091750a-e370-4c34-f9b5-1be3799af5a7"
      },
      "cell_type": "code",
      "source": [
        "# Reading Data\n",
        "!wget -nc https://raw.githubusercontent.com/meta-toolkit/meta/master/data/lemur-stopwords.txt\n",
        "!wget -N https://meta-toolkit.org/data/2016-11-10/cranfield.tar.gz\n",
        "!tar xf cranfield.tar.gz\n",
        "!wget -N http://www-personal.umich.edu/~shiyansi/cacm.tar.gz\n",
        "!tar xf cacm.tar.gz"
      ],
      "execution_count": 101,
      "outputs": [
        {
          "output_type": "stream",
          "text": [
            "File ‘lemur-stopwords.txt’ already there; not retrieving.\n",
            "\n",
            "--2018-10-18 22:55:48--  https://meta-toolkit.org/data/2016-11-10/cranfield.tar.gz\n",
            "Resolving meta-toolkit.org (meta-toolkit.org)... 50.116.41.177, 2600:3c02::f03c:91ff:feae:b777\n",
            "Connecting to meta-toolkit.org (meta-toolkit.org)|50.116.41.177|:443... connected.\n",
            "HTTP request sent, awaiting response... 304 Not Modified\n",
            "File ‘cranfield.tar.gz’ not modified on server. Omitting download.\n",
            "\n",
            "--2018-10-18 22:55:51--  http://www-personal.umich.edu/~shiyansi/cacm.tar.gz\n",
            "Resolving www-personal.umich.edu (www-personal.umich.edu)... 141.211.243.103\n",
            "Connecting to www-personal.umich.edu (www-personal.umich.edu)|141.211.243.103|:80... connected.\n",
            "HTTP request sent, awaiting response... 304 Not Modified\n",
            "File ‘cacm.tar.gz’ not modified on server. Omitting download.\n",
            "\n"
          ],
          "name": "stdout"
        }
      ]
    },
    {
      "metadata": {
        "id": "orgxVgu0TMFF",
        "colab_type": "code",
        "colab": {}
      },
      "cell_type": "code",
      "source": [
        "# Setting cranfield dataset\n",
        "with open('cranfield/tutorial.toml', 'w') as f:\n",
        "    f.write('type = \"line-corpus\"\\n')\n",
        "    f.write('store-full-text = true\\n')\n",
        "\n",
        "config = \"\"\"prefix = \".\" # tells MeTA where to search for datasets\n",
        "\n",
        "dataset = \"cranfield\" # a subfolder under the prefix directory\n",
        "corpus = \"tutorial.toml\" # a configuration file for the corpus specifying its format & additional args\n",
        "\n",
        "index = \"cranfield-idx\" # subfolder of the current working directory to place index files\n",
        "\n",
        "query-judgements = \"cranfield/cranfield-qrels.txt\" # file containing the relevance judgments for this dataset\n",
        "\n",
        "stop-words = \"lemur-stopwords.txt\"\n",
        "\n",
        "[[analyzers]]\n",
        "method = \"ngram-word\"\n",
        "ngram = 1\n",
        "filter = \"default-unigram-chain\"\n",
        "\"\"\"\n",
        "with open('cranfield-config.toml', 'w') as f:\n",
        "    f.write(config)"
      ],
      "execution_count": 0,
      "outputs": []
    },
    {
      "metadata": {
        "id": "myM1SK9zd0mt",
        "colab_type": "code",
        "colab": {}
      },
      "cell_type": "code",
      "source": [
        "# Setting cacm dataset\n",
        "with open('cacm/tutorial.toml', 'w') as f:\n",
        "    f.write('type = \"line-corpus\"\\n')\n",
        "    f.write('store-full-text = true\\n')\n",
        "\n",
        "config = \"\"\"prefix = \".\" # tells MeTA where to search for datasets\n",
        "\n",
        "dataset = \"cacm\" # a subfolder under the prefix directory\n",
        "corpus = \"tutorial.toml\" # a configuration file for the corpus specifying its format & additional args\n",
        "\n",
        "index = \"cacm-idx\" # subfolder of the current working directory to place index files\n",
        "\n",
        "query-judgements = \"cacm/cacm-qrels.txt\" # file containing the relevance judgments for this dataset\n",
        "\n",
        "stop-words = \"lemur-stopwords.txt\"\n",
        "\n",
        "[[analyzers]]\n",
        "method = \"ngram-word\"\n",
        "ngram = 1\n",
        "filter = \"default-unigram-chain\"\n",
        "\"\"\"\n",
        "with open('cacm-config.toml', 'w') as f:\n",
        "    f.write(config)"
      ],
      "execution_count": 0,
      "outputs": []
    },
    {
      "metadata": {
        "id": "3xWGLrMITjbA",
        "colab_type": "code",
        "colab": {}
      },
      "cell_type": "code",
      "source": [
        "# Make sure you have installed metapy package and downloaded the data before running the following code"
      ],
      "execution_count": 0,
      "outputs": []
    },
    {
      "metadata": {
        "id": "fRtZ2uKbUBM9",
        "colab_type": "code",
        "colab": {}
      },
      "cell_type": "code",
      "source": [
        "# Build the index for dataset.\n",
        "inv_idx_cran = metapy.index.make_inverted_index('cranfield-config.toml')\n",
        "inv_idx_cacm = metapy.index.make_inverted_index('cacm-config.toml')\n"
      ],
      "execution_count": 0,
      "outputs": []
    },
    {
      "metadata": {
        "id": "PKFJ8LFhYGMp",
        "colab_type": "text"
      },
      "cell_type": "markdown",
      "source": [
        "#** 3 Define New Retrieval Function**"
      ]
    },
    {
      "metadata": {
        "id": "I-_wqJFbh2a_",
        "colab_type": "text"
      },
      "cell_type": "markdown",
      "source": [
        "**Please write your own retrieval function in the cell below**"
      ]
    },
    {
      "metadata": {
        "id": "lyI-On60YMsn",
        "colab_type": "code",
        "colab": {}
      },
      "cell_type": "code",
      "source": [
        "import math\n",
        "class  NewRF (metapy.index.RankingFunction):                                                                                                           \n",
        "    def __init__(self, k1 = 1.2, b = 0.9, k3 = 500):                                             \n",
        "        self.k1 = k1\n",
        "        self.b = b\n",
        "        self.k3 = k3\n",
        "        # You *must* invoke the base class __init__() here!\n",
        "        super(NewRF, self).__init__()                                        \n",
        "                                                                                 \n",
        "    def score_one(self, sd):\n",
        "        \"\"\"\n",
        "        You need to override this function to return a score for a single term.\n",
        "        \n",
        "        You may want to call some of the following variables when implementing your retrieval function:\n",
        "        1sd.avg_dl: average document length of the collection1\n",
        "        1sd.num_docs: total number of documents in the index1\n",
        "        v sd.total_terms: total number of terms in the index\n",
        "        sd.query_length: the total length of the current query (sum of all term weights)\n",
        "        1sd.query_term_weight: query term count (or weight in case of feedback)\n",
        "        1sd.doc_count: number of documents that a term t_id appears in\n",
        "        sd.corpus_term_count: number of times a term t_id appears in the collection\n",
        "        1sd.doc_term_count: number of times the term appears in the current document\n",
        "        1sd.doc_size: total number of terms in the current document\n",
        "        sd.doc_unique_terms: number of unique terms in the current document\n",
        "        \"\"\"\n",
        "        #Write your answer here\n",
        "        \n",
        "        k1 = self.k1\n",
        "        b = self.b\n",
        "        k3 = self.k3\n",
        "        \n",
        "        #Fill your answer here\n",
        "        # modified ES \n",
        "        TF = sd.doc_term_count/(sd.doc_term_count + b * math.sqrt(sd.doc_size/sd.avg_dl))\n",
        "        IDF = ((sd.corpus_term_count ** 3) * sd.num_docs / (sd.doc_count**4)) ** k1 \n",
        "        QTF = (k3 + 1)* sd.query_term_weight / (k3 + sd.query_term_weight)\n",
        "        return IDF * TF * QTF\n"
      ],
      "execution_count": 0,
      "outputs": []
    },
    {
      "metadata": {
        "id": "VoosxShIYRyv",
        "colab_type": "code",
        "colab": {
          "base_uri": "https://localhost:8080/",
          "height": 2057
        },
        "outputId": "9274832f-dab1-47ff-c026-60c5991a17cb"
      },
      "cell_type": "code",
      "source": [
        "b_list = [0.96,1.0,1.04,1.08,1.12]\n",
        "\n",
        "k1_list = [0.3,0.4, 0.5, 0.6]\n",
        "k3_list = [500,1000]\n",
        "\n",
        "for k1_t in k1_list:\n",
        "    for b_t in b_list:\n",
        "        for k3_t in k3_list:\n",
        "            ranker = NewRF(k1 = k1_t, b = b_t, k3 = k3_t)\n",
        "            ev = metapy.index.IREval('cranfield-config.toml')\n",
        "            num_results = 30\n",
        "            precision_list = []\n",
        "            with open('cranfield/cranfield-queries.txt') as query_file:\n",
        "                for query_num, line in enumerate(query_file):\n",
        "                    query = metapy.index.Document()\n",
        "                    query.content(line.strip())\n",
        "                    results = ranker.score(inv_idx_cran, query, num_results)                            \n",
        "                    avg_p = ev.avg_p(results, query_num + 1, num_results)\n",
        "                    precision_list.append(ev.precision(results,query_num+1,num_results))\n",
        "            print(\"settings: \"+str(k1_t)+' , '+str(b_t)+' , '+str(k3_t))\n",
        "            print \"cranfield-MAP\", ev.map()\n",
        "            \n",
        "            ranker = NewRF(k1 = k1_t, b = b_t, k3 = k3_t)\n",
        "            with open('cacm/cacm-queries.txt') as query_file:\n",
        "                ev2 = metapy.index.IREval('cacm-config.toml')\n",
        "                num_results = 30\n",
        "                for query_num, line in enumerate(query_file):\n",
        "                    query = metapy.index.Document()\n",
        "                    query.content(line.strip())\n",
        "                    results = ranker.score(inv_idx_cacm, query, num_results)                            \n",
        "                    avg_p = ev2.avg_p(results, query_num + 1, num_results)\n",
        "                    precision_list.append(ev2.precision(results, query_num+1, num_results))\n",
        "            print \"cacm_MAP\", ev2.map()\n",
        "  "
      ],
      "execution_count": 179,
      "outputs": [
        {
          "output_type": "stream",
          "text": [
            "settings: 0.3 , 0.96 , 500\n",
            "cranfield-MAP 0.292336835835\n",
            "cacm_MAP 0.26924280565\n",
            "settings: 0.3 , 0.96 , 1000\n",
            "cranfield-MAP 0.292336835835\n",
            "cacm_MAP 0.269216500937\n",
            "settings: 0.3 , 1.0 , 500\n",
            "cranfield-MAP 0.293928691701\n",
            "cacm_MAP 0.269349695609\n",
            "settings: 0.3 , 1.0 , 1000\n",
            "cranfield-MAP 0.29392443457\n",
            "cacm_MAP 0.269349695609\n",
            "settings: 0.3 , 1.04 , 500\n",
            "cranfield-MAP 0.294830091579\n",
            "cacm_MAP 0.268378913493\n",
            "settings: 0.3 , 1.04 , 1000\n",
            "cranfield-MAP 0.294843101227\n",
            "cacm_MAP 0.268378913493\n",
            "settings: 0.3 , 1.08 , 500\n",
            "cranfield-MAP 0.295102982963\n",
            "cacm_MAP 0.268274177184\n",
            "settings: 0.3 , 1.08 , 1000\n",
            "cranfield-MAP 0.295098880399\n",
            "cacm_MAP 0.268269206176\n",
            "settings: 0.3 , 1.12 , 500\n",
            "cranfield-MAP 0.295642596757\n",
            "cacm_MAP 0.269115250524\n",
            "settings: 0.3 , 1.12 , 1000\n",
            "cranfield-MAP 0.295601444494\n",
            "cacm_MAP 0.268464208858\n",
            "settings: 0.4 , 0.96 , 500\n",
            "cranfield-MAP 0.300461703809\n",
            "cacm_MAP 0.26980488726\n",
            "settings: 0.4 , 0.96 , 1000\n",
            "cranfield-MAP 0.300585160599\n",
            "cacm_MAP 0.269787105491\n",
            "settings: 0.4 , 1.0 , 500\n",
            "cranfield-MAP 0.301168328354\n",
            "cacm_MAP 0.271069669774\n",
            "settings: 0.4 , 1.0 , 1000\n",
            "cranfield-MAP 0.301168328354\n",
            "cacm_MAP 0.27091890223\n",
            "settings: 0.4 , 1.04 , 500\n",
            "cranfield-MAP 0.301191263138\n",
            "cacm_MAP 0.270783575759\n",
            "settings: 0.4 , 1.04 , 1000\n",
            "cranfield-MAP 0.301191263138\n",
            "cacm_MAP 0.27079322082\n",
            "settings: 0.4 , 1.08 , 500\n",
            "cranfield-MAP 0.30127419068\n",
            "cacm_MAP 0.271146105353\n",
            "settings: 0.4 , 1.08 , 1000\n",
            "cranfield-MAP 0.30127419068\n",
            "cacm_MAP 0.271140259234\n",
            "settings: 0.4 , 1.12 , 500\n",
            "cranfield-MAP 0.300411774425\n",
            "cacm_MAP 0.270467935437\n",
            "settings: 0.4 , 1.12 , 1000\n",
            "cranfield-MAP 0.300378441092\n",
            "cacm_MAP 0.270450701981\n",
            "settings: 0.5 , 0.96 , 500\n",
            "cranfield-MAP 0.298400798013\n",
            "cacm_MAP 0.266717083197\n",
            "settings: 0.5 , 0.96 , 1000\n",
            "cranfield-MAP 0.2983880996\n",
            "cacm_MAP 0.266700389821\n",
            "settings: 0.5 , 1.0 , 500\n",
            "cranfield-MAP 0.298838178457\n",
            "cacm_MAP 0.26689516622\n",
            "settings: 0.5 , 1.0 , 1000\n",
            "cranfield-MAP 0.298838178457\n",
            "cacm_MAP 0.266970816672\n",
            "settings: 0.5 , 1.04 , 500\n",
            "cranfield-MAP 0.299216259257\n",
            "cacm_MAP 0.267736492301\n",
            "settings: 0.5 , 1.04 , 1000\n",
            "cranfield-MAP 0.299216259257\n",
            "cacm_MAP 0.267792756343\n",
            "settings: 0.5 , 1.08 , 500\n",
            "cranfield-MAP 0.298771084719\n",
            "cacm_MAP 0.268420750351\n",
            "settings: 0.5 , 1.08 , 1000\n",
            "cranfield-MAP 0.298771084719\n",
            "cacm_MAP 0.268431601045\n",
            "settings: 0.5 , 1.12 , 500\n",
            "cranfield-MAP 0.298283777363\n",
            "cacm_MAP 0.268494225027\n",
            "settings: 0.5 , 1.12 , 1000\n",
            "cranfield-MAP 0.298283777363\n",
            "cacm_MAP 0.268515890238\n",
            "settings: 0.6 , 0.96 , 500\n",
            "cranfield-MAP 0.295851128018\n",
            "cacm_MAP 0.254565983797\n",
            "settings: 0.6 , 0.96 , 1000\n",
            "cranfield-MAP 0.295798217965\n",
            "cacm_MAP 0.254304989432\n",
            "settings: 0.6 , 1.0 , 500\n",
            "cranfield-MAP 0.295340510141\n",
            "cacm_MAP 0.254527210008\n",
            "settings: 0.6 , 1.0 , 1000\n",
            "cranfield-MAP 0.295340510141\n",
            "cacm_MAP 0.254517563403\n",
            "settings: 0.6 , 1.04 , 500\n",
            "cranfield-MAP 0.296035011522\n",
            "cacm_MAP 0.254256741128\n",
            "settings: 0.6 , 1.04 , 1000\n",
            "cranfield-MAP 0.296035011522\n",
            "cacm_MAP 0.254173694309\n",
            "settings: 0.6 , 1.08 , 500\n",
            "cranfield-MAP 0.295576499128\n",
            "cacm_MAP 0.254175879194\n",
            "settings: 0.6 , 1.08 , 1000\n",
            "cranfield-MAP 0.295576499128\n",
            "cacm_MAP 0.25396250002\n",
            "settings: 0.6 , 1.12 , 500\n",
            "cranfield-MAP 0.295688107634\n",
            "cacm_MAP 0.254696662293\n",
            "settings: 0.6 , 1.12 , 1000\n",
            "cranfield-MAP 0.295688107634\n",
            "cacm_MAP 0.254696662293\n"
          ],
          "name": "stdout"
        }
      ]
    },
    {
      "metadata": {
        "id": "D3eCOuatYSa8",
        "colab_type": "text"
      },
      "cell_type": "markdown",
      "source": [
        "# Testing Search Results for a Single Query"
      ]
    },
    {
      "metadata": {
        "id": "pY8niuLdYZs2",
        "colab_type": "code",
        "colab": {}
      },
      "cell_type": "code",
      "source": [
        "query = metapy.index.Document()\n",
        "query.content(\"ibm\")\n",
        "top_docs = ranker.score(inv_idx_cacm, query, num_results=5)"
      ],
      "execution_count": 0,
      "outputs": []
    },
    {
      "metadata": {
        "id": "YQpQX0bQYdIh",
        "colab_type": "code",
        "colab": {
          "base_uri": "https://localhost:8080/",
          "height": 207
        },
        "outputId": "4b85da53-8426-4a43-e00e-7265d878aa27"
      },
      "cell_type": "code",
      "source": [
        "for num, (d_id, _) in enumerate(top_docs):\n",
        "    content = inv_idx_cacm.metadata(d_id).get('content')\n",
        "    print(\"{}. {}...\\n\".format(num + 1, content))"
      ],
      "execution_count": 178,
      "outputs": [
        {
          "output_type": "stream",
          "text": [
            "1. ibm 704 code nundrums...\n",
            "\n",
            "2. character scanning on the ibm 7070...\n",
            "\n",
            "3. counting ones on the ibm 7090...\n",
            "\n",
            "4. starting approximations for square root calculation on ibm system 360 several starting approximations for square root calculation by newton method are presented in a form to facilitate their use in ibm system 360 square root routines these approximations include several for the range 1 16 1 which is the interval of primary interest on ibm system 360...\n",
            "\n",
            "5. statistical programs for the ibm 650 part i a collection is given of brief descriptions of statistical programs now in use in university computing centers which have ibm 650...\n",
            "\n"
          ],
          "name": "stdout"
        }
      ]
    },
    {
      "metadata": {
        "id": "KDqQ0j-oignb",
        "colab_type": "text"
      },
      "cell_type": "markdown",
      "source": [
        "**Please submit your code for  NewRF class to canvas. We need your code to verify your results.**"
      ]
    },
    {
      "metadata": {
        "id": "nZT76HDoh0sM",
        "colab_type": "code",
        "colab": {}
      },
      "cell_type": "code",
      "source": [
        ""
      ],
      "execution_count": 0,
      "outputs": []
    }
  ]
}